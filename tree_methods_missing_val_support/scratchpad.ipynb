{
 "cells": [
  {
   "cell_type": "code",
   "execution_count": 4,
   "metadata": {
    "collapsed": true
   },
   "outputs": [],
   "source": [
    "import numpy as np\n",
    "from scipy.io.arff import loadarff as scpy_arff_load\n",
    "import time\n",
    "\n",
    "from sklearn.datasets import fetch_covtype\n",
    "from sklearn.ensemble import RandomForestClassifier\n",
    "from sklearn.pipeline import Pipeline\n",
    "from sklearn.preprocessing import Imputer\n",
    "from sklearn.model_selection import cross_val_score\n",
    "\n",
    "import pyarff  # https://github.com/pyarff/pyarff\n",
    "# (scipy arff is slow and doesn't encode categories.)\n",
    "\n",
    "rng = np.random.RandomState(0)\n",
    "\n",
    "all_datasets = {}\n",
    "\n",
    "# Soy Bean dataset - http://www.openml.org/d/42\n",
    "\n",
    "meta3, data3 = pyarff.load_arff_dataset('/home/raghavrv/code/datasets/arff/soybean.arff',\n",
    "                                        encode_nominals=True)\n",
    "X, y = data3[:, :-1].astype(float), data3[:, -1].astype(int)\n",
    "all_datasets['soy_bean'] = (X, y)"
   ]
  },
  {
   "cell_type": "code",
   "execution_count": 8,
   "metadata": {
    "collapsed": false
   },
   "outputs": [
    {
     "data": {
      "text/plain": [
       "array([ 7.,  1.,  3.,  2.,  1.,  2.,  2.,  2.,  1.,  1.,  2.,  2.,  1.,\n",
       "        3.,  3.,  1.,  1.,  1.,  2.,  2.,  4.,  2.,  2.,  2.,  1.,  1.,\n",
       "        1.,  1.,  5.,  1.,  1.,  1.,  1.,  1.,  1.])"
      ]
     },
     "execution_count": 8,
     "metadata": {},
     "output_type": "execute_result"
    }
   ],
   "source": [
    "X[0]"
   ]
  },
  {
   "cell_type": "code",
   "execution_count": null,
   "metadata": {
    "collapsed": true
   },
   "outputs": [],
   "source": []
  }
 ],
 "metadata": {
  "anaconda-cloud": {},
  "kernelspec": {
   "display_name": "Python [conda env:python35]",
   "language": "python",
   "name": "conda-env-python35-py"
  },
  "language_info": {
   "codemirror_mode": {
    "name": "ipython",
    "version": 3
   },
   "file_extension": ".py",
   "mimetype": "text/x-python",
   "name": "python",
   "nbconvert_exporter": "python",
   "pygments_lexer": "ipython3",
   "version": "3.5.2"
  }
 },
 "nbformat": 4,
 "nbformat_minor": 1
}
