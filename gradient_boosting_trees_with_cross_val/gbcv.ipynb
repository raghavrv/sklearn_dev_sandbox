{
 "cells": [
  {
   "cell_type": "code",
   "execution_count": 1,
   "metadata": {
    "collapsed": false
   },
   "outputs": [],
   "source": [
    "from sklearn.ensemble import GradientBoostingRegressorCV, GradientBoostingClassifierCV\n",
    "\n",
    "from sklearn.ensemble import GradientBoostingRegressor, GradientBoostingClassifier\n",
    "\n",
    "from sklearn.datasets import load_boston, fetch_covtype, load_iris, make_classification\n",
    "from sklearn.datasets import fetch_20newsgroups_vectorized, fetch_california_housing\n",
    "\n",
    "from sklearn.model_selection import train_test_split, GridSearchCV\n",
    "\n",
    "from time import time, sleep\n",
    "\n",
    "import numpy as np\n",
    "\n",
    "def memory_usage():\n",
    "    \"\"\"Memory usage of the current process in MBs.\"\"\"\n",
    "    status = None\n",
    "    result = 0\n",
    "    try:\n",
    "        # This will only work on systems with a /proc file system\n",
    "        # (like Linux).\n",
    "        status = open('/proc/self/status')\n",
    "        for line in status:\n",
    "            parts = line.split()\n",
    "            key = parts[0][2:-1].lower()\n",
    "            if key == \"rss\":\n",
    "                result = int(parts[1]) / 1024.0\n",
    "    finally:\n",
    "        if status is not None:\n",
    "            status.close()\n",
    "    return result\n",
    "\n",
    "mkclf_dataset = make_classification(n_samples=1000000)\n",
    "class make_clf_data:\n",
    "    data = mkclf_dataset[0]\n",
    "    target = mkclf_dataset[1]\n",
    "\n",
    "FILENAME = \"./bench_results\"\n",
    "\n",
    "n_samples = 1000000\n",
    "\n",
    "# Let's load some datasets\n",
    "\n",
    "datasets = {\n",
    "    'boston': load_boston(),\n",
    "    'covtype': fetch_covtype(),\n",
    "    'iris': load_iris(),\n",
    "    # 'twenty_ng': fetch_20newsgroups_vectorized(),\n",
    "    'california_housing': fetch_california_housing(),\n",
    "    'toy': make_clf_data(),\n",
    "}\n",
    "\n",
    "X, y = datasets['toy'].data[:10000, :], datasets['toy'].target[:10000]"
   ]
  },
  {
   "cell_type": "code",
   "execution_count": 2,
   "metadata": {
    "collapsed": false
   },
   "outputs": [
    {
     "data": {
      "text/html": [
       "<div>\n",
       "<table border=\"1\" class=\"dataframe\">\n",
       "  <thead>\n",
       "    <tr style=\"text-align: right;\">\n",
       "      <th></th>\n",
       "      <th>param_n_estimators</th>\n",
       "      <th>params</th>\n",
       "      <th>test_mean_score</th>\n",
       "      <th>test_rank_score</th>\n",
       "      <th>test_split0_score</th>\n",
       "      <th>test_split1_score</th>\n",
       "      <th>test_split2_score</th>\n",
       "      <th>test_split3_score</th>\n",
       "      <th>test_split4_score</th>\n",
       "      <th>test_std_score</th>\n",
       "    </tr>\n",
       "  </thead>\n",
       "  <tbody>\n",
       "    <tr>\n",
       "      <th>6</th>\n",
       "      <td>7</td>\n",
       "      <td>{u'n_estimators': 7}</td>\n",
       "      <td>0.9246</td>\n",
       "      <td>1</td>\n",
       "      <td>0.919040</td>\n",
       "      <td>0.925037</td>\n",
       "      <td>0.9220</td>\n",
       "      <td>0.922461</td>\n",
       "      <td>0.934467</td>\n",
       "      <td>0.005287</td>\n",
       "    </tr>\n",
       "    <tr>\n",
       "      <th>7</th>\n",
       "      <td>8</td>\n",
       "      <td>{u'n_estimators': 8}</td>\n",
       "      <td>0.9245</td>\n",
       "      <td>2</td>\n",
       "      <td>0.916542</td>\n",
       "      <td>0.924038</td>\n",
       "      <td>0.9215</td>\n",
       "      <td>0.925963</td>\n",
       "      <td>0.934467</td>\n",
       "      <td>0.005899</td>\n",
       "    </tr>\n",
       "    <tr>\n",
       "      <th>5</th>\n",
       "      <td>6</td>\n",
       "      <td>{u'n_estimators': 6}</td>\n",
       "      <td>0.9242</td>\n",
       "      <td>3</td>\n",
       "      <td>0.918041</td>\n",
       "      <td>0.924038</td>\n",
       "      <td>0.9215</td>\n",
       "      <td>0.922961</td>\n",
       "      <td>0.934467</td>\n",
       "      <td>0.005517</td>\n",
       "    </tr>\n",
       "    <tr>\n",
       "      <th>4</th>\n",
       "      <td>5</td>\n",
       "      <td>{u'n_estimators': 5}</td>\n",
       "      <td>0.9240</td>\n",
       "      <td>4</td>\n",
       "      <td>0.919040</td>\n",
       "      <td>0.921039</td>\n",
       "      <td>0.9245</td>\n",
       "      <td>0.922961</td>\n",
       "      <td>0.932466</td>\n",
       "      <td>0.004612</td>\n",
       "    </tr>\n",
       "    <tr>\n",
       "      <th>3</th>\n",
       "      <td>4</td>\n",
       "      <td>{u'n_estimators': 4}</td>\n",
       "      <td>0.9238</td>\n",
       "      <td>5</td>\n",
       "      <td>0.919040</td>\n",
       "      <td>0.921039</td>\n",
       "      <td>0.9245</td>\n",
       "      <td>0.921961</td>\n",
       "      <td>0.932466</td>\n",
       "      <td>0.004674</td>\n",
       "    </tr>\n",
       "    <tr>\n",
       "      <th>8</th>\n",
       "      <td>9</td>\n",
       "      <td>{u'n_estimators': 9}</td>\n",
       "      <td>0.9234</td>\n",
       "      <td>6</td>\n",
       "      <td>0.917541</td>\n",
       "      <td>0.924038</td>\n",
       "      <td>0.9185</td>\n",
       "      <td>0.922461</td>\n",
       "      <td>0.934467</td>\n",
       "      <td>0.006034</td>\n",
       "    </tr>\n",
       "    <tr>\n",
       "      <th>2</th>\n",
       "      <td>3</td>\n",
       "      <td>{u'n_estimators': 3}</td>\n",
       "      <td>0.9232</td>\n",
       "      <td>7</td>\n",
       "      <td>0.919040</td>\n",
       "      <td>0.921539</td>\n",
       "      <td>0.9255</td>\n",
       "      <td>0.922461</td>\n",
       "      <td>0.927464</td>\n",
       "      <td>0.002969</td>\n",
       "    </tr>\n",
       "    <tr>\n",
       "      <th>1</th>\n",
       "      <td>2</td>\n",
       "      <td>{u'n_estimators': 2}</td>\n",
       "      <td>0.9215</td>\n",
       "      <td>8</td>\n",
       "      <td>0.919040</td>\n",
       "      <td>0.918041</td>\n",
       "      <td>0.9245</td>\n",
       "      <td>0.918959</td>\n",
       "      <td>0.926963</td>\n",
       "      <td>0.003558</td>\n",
       "    </tr>\n",
       "    <tr>\n",
       "      <th>0</th>\n",
       "      <td>1</td>\n",
       "      <td>{u'n_estimators': 1}</td>\n",
       "      <td>0.9206</td>\n",
       "      <td>9</td>\n",
       "      <td>0.919540</td>\n",
       "      <td>0.918041</td>\n",
       "      <td>0.9230</td>\n",
       "      <td>0.915458</td>\n",
       "      <td>0.926963</td>\n",
       "      <td>0.004008</td>\n",
       "    </tr>\n",
       "  </tbody>\n",
       "</table>\n",
       "</div>"
      ],
      "text/plain": [
       "  param_n_estimators                params  test_mean_score  test_rank_score  \\\n",
       "6                  7  {u'n_estimators': 7}           0.9246                1   \n",
       "7                  8  {u'n_estimators': 8}           0.9245                2   \n",
       "5                  6  {u'n_estimators': 6}           0.9242                3   \n",
       "4                  5  {u'n_estimators': 5}           0.9240                4   \n",
       "3                  4  {u'n_estimators': 4}           0.9238                5   \n",
       "8                  9  {u'n_estimators': 9}           0.9234                6   \n",
       "2                  3  {u'n_estimators': 3}           0.9232                7   \n",
       "1                  2  {u'n_estimators': 2}           0.9215                8   \n",
       "0                  1  {u'n_estimators': 1}           0.9206                9   \n",
       "\n",
       "   test_split0_score  test_split1_score  test_split2_score  test_split3_score  \\\n",
       "6           0.919040           0.925037             0.9220           0.922461   \n",
       "7           0.916542           0.924038             0.9215           0.925963   \n",
       "5           0.918041           0.924038             0.9215           0.922961   \n",
       "4           0.919040           0.921039             0.9245           0.922961   \n",
       "3           0.919040           0.921039             0.9245           0.921961   \n",
       "8           0.917541           0.924038             0.9185           0.922461   \n",
       "2           0.919040           0.921539             0.9255           0.922461   \n",
       "1           0.919040           0.918041             0.9245           0.918959   \n",
       "0           0.919540           0.918041             0.9230           0.915458   \n",
       "\n",
       "   test_split4_score  test_std_score  \n",
       "6           0.934467        0.005287  \n",
       "7           0.934467        0.005899  \n",
       "5           0.934467        0.005517  \n",
       "4           0.932466        0.004612  \n",
       "3           0.932466        0.004674  \n",
       "8           0.934467        0.006034  \n",
       "2           0.927464        0.002969  \n",
       "1           0.926963        0.003558  \n",
       "0           0.926963        0.004008  "
      ]
     },
     "execution_count": 2,
     "metadata": {},
     "output_type": "execute_result"
    }
   ],
   "source": [
    "gs_gbcv = GridSearchCV(GradientBoostingClassifier(random_state=0),\n",
    "                       param_grid={'n_estimators': np.arange(1, 10)},\n",
    "                       cv=5, n_jobs=8, )\n",
    "gs_gbcv.fit(X, y)\n",
    "\n",
    "import pandas as pd\n",
    "\n",
    "res = pd.DataFrame(gs_gbcv.results_)\n",
    "res.sort_values(by='test_rank_score')"
   ]
  },
  {
   "cell_type": "code",
   "execution_count": 3,
   "metadata": {
    "collapsed": false
   },
   "outputs": [
    {
     "name": "stdout",
     "output_type": "stream",
     "text": [
      "We got 1 params\n",
      "{'presort': 'auto', 'loss': 'deviance', 'subsample': 1.0, 'max_leaf_nodes': None, 'learning_rate': 0.10000000000000001, 'min_samples_leaf': 1, 'min_samples_split': 2, 'init': None, 'min_weight_fraction_leaf': 0.0, 'max_features': None, 'max_depth': 3}\n",
      "True\n",
      "{'presort': 'auto', 'loss': 'deviance', 'subsample': 1.0, 'max_leaf_nodes': None, 'learning_rate': 0.10000000000000001, 'min_samples_leaf': 1, 'min_samples_split': 2, 'init': None, 'min_weight_fraction_leaf': 0.0, 'max_features': None, 'max_depth': 3}\n",
      "True\n",
      "{'presort': 'auto', 'loss': 'deviance', 'subsample': 1.0, 'max_leaf_nodes': None, 'learning_rate': 0.10000000000000001, 'min_samples_leaf': 1, 'min_samples_split': 2, 'init': None, 'min_weight_fraction_leaf': 0.0, 'max_features': None, 'max_depth': 3}\n",
      "True\n",
      "{'presort': 'auto', 'loss': 'deviance', 'subsample': 1.0, 'max_leaf_nodes': None, 'learning_rate': 0.10000000000000001, 'min_samples_leaf': 1, 'min_samples_split': 2, 'init': None, 'min_weight_fraction_leaf': 0.0, 'max_features': None, 'max_depth': 3}\n",
      "True\n",
      "{'presort': 'auto', 'loss': 'deviance', 'subsample': 1.0, 'max_leaf_nodes': None, 'learning_rate': 0.10000000000000001, 'min_samples_leaf': 1, 'min_samples_split': 2, 'init': None, 'min_weight_fraction_leaf': 0.0, 'max_features': None, 'max_depth': 3}\n",
      "True\n",
      "[0.91449999999999998, 0.91449999999999998, 0.92100000000000004, 0.92049999999999998, 0.92200000000000004, 0.92249999999999999, 0.92249999999999999, 0.92149999999999999, 0.92249999999999999, 0.92100000000000004]\n",
      "[0.92049999999999998, 0.92000000000000004, 0.92000000000000004, 0.92000000000000004, 0.92000000000000004, 0.92000000000000004, 0.91949999999999998, 0.91649999999999998, 0.91700000000000004, 0.91700000000000004]\n",
      "[0.92500000000000004, 0.92500000000000004, 0.92549999999999999, 0.93049999999999999, 0.9325, 0.9325, 0.9325, 0.9325, 0.9325, 0.9325]\n",
      "[0.92400000000000004, 0.92500000000000004, 0.92300000000000004, 0.92200000000000004, 0.92249999999999999, 0.92249999999999999, 0.92200000000000004, 0.92200000000000004, 0.92000000000000004, 0.92000000000000004]\n",
      "[0.92100000000000004, 0.92049999999999998, 0.92349999999999999, 0.92349999999999999, 0.92649999999999999, 0.92549999999999999, 0.92500000000000004, 0.92500000000000004, 0.92600000000000005, 0.92600000000000005]\n"
     ]
    },
    {
     "name": "stderr",
     "output_type": "stream",
     "text": [
      "/tsi/doctorants/raghav/anaconda/anaconda3/envs/python2/lib/python2.7/site-packages/sklearn/ensemble/gradient_boosting_cv.py:826: UserWarning: GradientBoostingClassifier(criterion='friedman_mse', init=None,\n",
      "              learning_rate=0.10000000000000001, loss='deviance',\n",
      "              max_depth=3, max_features=None, max_leaf_nodes=None,\n",
      "              min_samples_leaf=1, min_samples_split=2,\n",
      "              min_weight_fraction_leaf=0.0, n_estimators=10,\n",
      "              presort='auto', random_state=0, subsample=1.0, verbose=0,\n",
      "              warm_start=True) failed to converge\n",
      "  warnings.warn(str(gb) + ' failed to converge')\n"
     ]
    },
    {
     "data": {
      "text/plain": [
       "2"
      ]
     },
     "execution_count": 3,
     "metadata": {},
     "output_type": "execute_result"
    }
   ],
   "source": [
    "gbccv = GradientBoostingClassifierCV(max_iterations=10,\n",
    "                                     n_stop_rounds=-1,\n",
    "                                     cv=5, n_jobs=8,\n",
    "                                     score_precision=40,\n",
    "                                     random_state=0)\n",
    "gbccv.fit(X, y)\n",
    "gbccv.best_estimator_.n_estimators"
   ]
  },
  {
   "cell_type": "code",
   "execution_count": 11,
   "metadata": {
    "collapsed": false
   },
   "outputs": [
    {
     "data": {
      "text/plain": [
       "array([89, 90, 91, 92, 93, 94, 95, 96, 97, 98, 99])"
      ]
     },
     "execution_count": 11,
     "metadata": {},
     "output_type": "execute_result"
    }
   ],
   "source": [
    "a = np.arange(100)\n",
    "\n",
    "a[-11:]"
   ]
  },
  {
   "cell_type": "code",
   "execution_count": 14,
   "metadata": {
    "collapsed": false
   },
   "outputs": [
    {
     "data": {
      "text/plain": [
       "{'param_n_estimators': masked_array(data = [1 2 3 4 5 6 7 8 9 10 11 12 13 14 15 16 17 18 19 20 21 22 23 24 25 26 27 28\n",
       "  29 30 31 32 33 34 35 36 37 38 39 40 41 42 43 44 45 46 47 48 49 50 51 52 53\n",
       "  54 55 56 57 58 59 60 61 62 63 64 65 66 67 68 69 70 71 72 73 74 75 76 77 78\n",
       "  79 80 81 82 83 84 85 86 87 88 89 90 91 92 93 94 95 96 97 98 99],\n",
       "              mask = [False False False False False False False False False False False False\n",
       "  False False False False False False False False False False False False\n",
       "  False False False False False False False False False False False False\n",
       "  False False False False False False False False False False False False\n",
       "  False False False False False False False False False False False False\n",
       "  False False False False False False False False False False False False\n",
       "  False False False False False False False False False False False False\n",
       "  False False False False False False False False False False False False\n",
       "  False False False],\n",
       "        fill_value = ?),\n",
       " 'params': ({'n_estimators': 1},\n",
       "  {'n_estimators': 2},\n",
       "  {'n_estimators': 3},\n",
       "  {'n_estimators': 4},\n",
       "  {'n_estimators': 5},\n",
       "  {'n_estimators': 6},\n",
       "  {'n_estimators': 7},\n",
       "  {'n_estimators': 8},\n",
       "  {'n_estimators': 9},\n",
       "  {'n_estimators': 10},\n",
       "  {'n_estimators': 11},\n",
       "  {'n_estimators': 12},\n",
       "  {'n_estimators': 13},\n",
       "  {'n_estimators': 14},\n",
       "  {'n_estimators': 15},\n",
       "  {'n_estimators': 16},\n",
       "  {'n_estimators': 17},\n",
       "  {'n_estimators': 18},\n",
       "  {'n_estimators': 19},\n",
       "  {'n_estimators': 20},\n",
       "  {'n_estimators': 21},\n",
       "  {'n_estimators': 22},\n",
       "  {'n_estimators': 23},\n",
       "  {'n_estimators': 24},\n",
       "  {'n_estimators': 25},\n",
       "  {'n_estimators': 26},\n",
       "  {'n_estimators': 27},\n",
       "  {'n_estimators': 28},\n",
       "  {'n_estimators': 29},\n",
       "  {'n_estimators': 30},\n",
       "  {'n_estimators': 31},\n",
       "  {'n_estimators': 32},\n",
       "  {'n_estimators': 33},\n",
       "  {'n_estimators': 34},\n",
       "  {'n_estimators': 35},\n",
       "  {'n_estimators': 36},\n",
       "  {'n_estimators': 37},\n",
       "  {'n_estimators': 38},\n",
       "  {'n_estimators': 39},\n",
       "  {'n_estimators': 40},\n",
       "  {'n_estimators': 41},\n",
       "  {'n_estimators': 42},\n",
       "  {'n_estimators': 43},\n",
       "  {'n_estimators': 44},\n",
       "  {'n_estimators': 45},\n",
       "  {'n_estimators': 46},\n",
       "  {'n_estimators': 47},\n",
       "  {'n_estimators': 48},\n",
       "  {'n_estimators': 49},\n",
       "  {'n_estimators': 50},\n",
       "  {'n_estimators': 51},\n",
       "  {'n_estimators': 52},\n",
       "  {'n_estimators': 53},\n",
       "  {'n_estimators': 54},\n",
       "  {'n_estimators': 55},\n",
       "  {'n_estimators': 56},\n",
       "  {'n_estimators': 57},\n",
       "  {'n_estimators': 58},\n",
       "  {'n_estimators': 59},\n",
       "  {'n_estimators': 60},\n",
       "  {'n_estimators': 61},\n",
       "  {'n_estimators': 62},\n",
       "  {'n_estimators': 63},\n",
       "  {'n_estimators': 64},\n",
       "  {'n_estimators': 65},\n",
       "  {'n_estimators': 66},\n",
       "  {'n_estimators': 67},\n",
       "  {'n_estimators': 68},\n",
       "  {'n_estimators': 69},\n",
       "  {'n_estimators': 70},\n",
       "  {'n_estimators': 71},\n",
       "  {'n_estimators': 72},\n",
       "  {'n_estimators': 73},\n",
       "  {'n_estimators': 74},\n",
       "  {'n_estimators': 75},\n",
       "  {'n_estimators': 76},\n",
       "  {'n_estimators': 77},\n",
       "  {'n_estimators': 78},\n",
       "  {'n_estimators': 79},\n",
       "  {'n_estimators': 80},\n",
       "  {'n_estimators': 81},\n",
       "  {'n_estimators': 82},\n",
       "  {'n_estimators': 83},\n",
       "  {'n_estimators': 84},\n",
       "  {'n_estimators': 85},\n",
       "  {'n_estimators': 86},\n",
       "  {'n_estimators': 87},\n",
       "  {'n_estimators': 88},\n",
       "  {'n_estimators': 89},\n",
       "  {'n_estimators': 90},\n",
       "  {'n_estimators': 91},\n",
       "  {'n_estimators': 92},\n",
       "  {'n_estimators': 93},\n",
       "  {'n_estimators': 94},\n",
       "  {'n_estimators': 95},\n",
       "  {'n_estimators': 96},\n",
       "  {'n_estimators': 97},\n",
       "  {'n_estimators': 98},\n",
       "  {'n_estimators': 99}),\n",
       " 'test_mean_score': array([ 0.9073,  0.9079,  0.9089,  0.9092,  0.9091,  0.9094,  0.91  ,\n",
       "         0.9101,  0.9104,  0.9107,  0.9111,  0.9112,  0.9113,  0.9112,\n",
       "         0.911 ,  0.9115,  0.9112,  0.9113,  0.9115,  0.9113,  0.9114,\n",
       "         0.9116,  0.9114,  0.9114,  0.9117,  0.9117,  0.9118,  0.912 ,\n",
       "         0.912 ,  0.912 ,  0.9121,  0.9122,  0.9122,  0.9128,  0.9126,\n",
       "         0.9126,  0.9127,  0.9129,  0.9132,  0.9126,  0.9131,  0.9131,\n",
       "         0.9132,  0.9134,  0.9132,  0.9132,  0.9132,  0.9132,  0.9131,\n",
       "         0.9131,  0.9129,  0.9127,  0.913 ,  0.9131,  0.9129,  0.9126,\n",
       "         0.9122,  0.9122,  0.912 ,  0.9121,  0.9122,  0.9124,  0.9123,\n",
       "         0.9124,  0.9122,  0.9125,  0.9125,  0.9123,  0.9123,  0.912 ,\n",
       "         0.9121,  0.912 ,  0.9116,  0.912 ,  0.9118,  0.9116,  0.9116,\n",
       "         0.9117,  0.9114,  0.9117,  0.9116,  0.9117,  0.9118,  0.912 ,\n",
       "         0.9119,  0.9119,  0.912 ,  0.9118,  0.9119,  0.912 ,  0.9122,\n",
       "         0.912 ,  0.9116,  0.9115,  0.9113,  0.9115,  0.9115,  0.9115,\n",
       "         0.9114]),\n",
       " 'test_rank_score': array([99, 98, 97, 95, 96, 94, 93, 92, 91, 90, 88, 85, 81, 85, 89, 70, 85,\n",
       "        81, 70, 81, 76, 64, 76, 76, 59, 59, 55, 41, 41, 41, 38, 31, 31, 17,\n",
       "        20, 20, 18, 14,  2, 20,  8,  8,  2,  1,  2,  2,  2,  2,  8,  8, 14,\n",
       "        18, 13,  8, 14, 20, 31, 31, 41, 38, 31, 26, 28, 26, 31, 24, 24, 28,\n",
       "        28, 41, 38, 41, 64, 41, 55, 64, 64, 59, 76, 59, 64, 59, 55, 41, 52,\n",
       "        52, 41, 55, 52, 41, 31, 41, 64, 70, 81, 70, 70, 70, 76], dtype=int32),\n",
       " 'test_split0_score': array([ 0.90104948,  0.90104948,  0.90154923,  0.90154923,  0.90154923,\n",
       "         0.90104948,  0.90154923,  0.90104948,  0.90154923,  0.90154923,\n",
       "         0.90254873,  0.90304848,  0.90304848,  0.90354823,  0.90304848,\n",
       "         0.90404798,  0.90304848,  0.90354823,  0.90404798,  0.90354823,\n",
       "         0.90354823,  0.90304848,  0.90354823,  0.90354823,  0.90354823,\n",
       "         0.90404798,  0.90354823,  0.90454773,  0.90404798,  0.90404798,\n",
       "         0.90404798,  0.90404798,  0.90454773,  0.90454773,  0.90404798,\n",
       "         0.90404798,  0.90404798,  0.90454773,  0.90454773,  0.90404798,\n",
       "         0.90404798,  0.90404798,  0.90404798,  0.90404798,  0.90404798,\n",
       "         0.90404798,  0.90404798,  0.90404798,  0.90404798,  0.90404798,\n",
       "         0.90404798,  0.90404798,  0.90404798,  0.90404798,  0.90354823,\n",
       "         0.90354823,  0.90354823,  0.90404798,  0.90404798,  0.90404798,\n",
       "         0.90354823,  0.90354823,  0.90404798,  0.90454773,  0.90454773,\n",
       "         0.90454773,  0.90454773,  0.90454773,  0.90454773,  0.90454773,\n",
       "         0.90504748,  0.90504748,  0.90404798,  0.90404798,  0.90354823,\n",
       "         0.90354823,  0.90354823,  0.90354823,  0.90304848,  0.90304848,\n",
       "         0.90304848,  0.90354823,  0.90404798,  0.90404798,  0.90404798,\n",
       "         0.90454773,  0.90454773,  0.90454773,  0.90454773,  0.90454773,\n",
       "         0.90454773,  0.90404798,  0.90454773,  0.90354823,  0.90354823,\n",
       "         0.90404798,  0.90404798,  0.90404798,  0.90404798]),\n",
       " 'test_split1_score': array([ 0.9055,  0.905 ,  0.906 ,  0.9055,  0.905 ,  0.908 ,  0.909 ,\n",
       "         0.9095,  0.909 ,  0.9115,  0.9115,  0.9115,  0.9115,  0.9115,\n",
       "         0.9115,  0.9115,  0.9115,  0.9115,  0.9115,  0.9115,  0.911 ,\n",
       "         0.9115,  0.911 ,  0.911 ,  0.911 ,  0.91  ,  0.911 ,  0.91  ,\n",
       "         0.9105,  0.9105,  0.9105,  0.911 ,  0.9105,  0.9105,  0.9105,\n",
       "         0.9105,  0.9095,  0.9095,  0.911 ,  0.909 ,  0.911 ,  0.9115,\n",
       "         0.912 ,  0.912 ,  0.911 ,  0.9115,  0.9115,  0.911 ,  0.911 ,\n",
       "         0.911 ,  0.9105,  0.9105,  0.9105,  0.9105,  0.9105,  0.9105,\n",
       "         0.9095,  0.909 ,  0.909 ,  0.909 ,  0.91  ,  0.91  ,  0.9095,\n",
       "         0.9095,  0.909 ,  0.909 ,  0.909 ,  0.9085,  0.9085,  0.908 ,\n",
       "         0.9075,  0.9075,  0.9075,  0.908 ,  0.9085,  0.908 ,  0.907 ,\n",
       "         0.907 ,  0.907 ,  0.908 ,  0.908 ,  0.908 ,  0.9085,  0.9085,\n",
       "         0.9085,  0.908 ,  0.908 ,  0.908 ,  0.908 ,  0.9085,  0.9085,\n",
       "         0.9085,  0.908 ,  0.9085,  0.9075,  0.9085,  0.908 ,  0.908 ,\n",
       "         0.908 ]),\n",
       " 'test_split2_score': array([ 0.914 ,  0.914 ,  0.914 ,  0.916 ,  0.916 ,  0.916 ,  0.916 ,\n",
       "         0.916 ,  0.916 ,  0.916 ,  0.9165,  0.9165,  0.9165,  0.9155,\n",
       "         0.917 ,  0.916 ,  0.916 ,  0.916 ,  0.916 ,  0.916 ,  0.917 ,\n",
       "         0.9175,  0.9165,  0.9165,  0.9165,  0.917 ,  0.917 ,  0.9175,\n",
       "         0.917 ,  0.9175,  0.918 ,  0.918 ,  0.9175,  0.9175,  0.918 ,\n",
       "         0.918 ,  0.919 ,  0.919 ,  0.919 ,  0.919 ,  0.919 ,  0.919 ,\n",
       "         0.919 ,  0.9195,  0.9195,  0.9195,  0.9195,  0.9195,  0.9195,\n",
       "         0.919 ,  0.919 ,  0.919 ,  0.919 ,  0.9195,  0.9195,  0.9195,\n",
       "         0.9195,  0.9195,  0.919 ,  0.919 ,  0.919 ,  0.919 ,  0.9185,\n",
       "         0.9185,  0.9185,  0.919 ,  0.919 ,  0.919 ,  0.919 ,  0.919 ,\n",
       "         0.9195,  0.919 ,  0.919 ,  0.92  ,  0.92  ,  0.919 ,  0.92  ,\n",
       "         0.92  ,  0.92  ,  0.92  ,  0.9195,  0.919 ,  0.919 ,  0.9195,\n",
       "         0.919 ,  0.919 ,  0.919 ,  0.919 ,  0.919 ,  0.919 ,  0.919 ,\n",
       "         0.919 ,  0.918 ,  0.918 ,  0.918 ,  0.9175,  0.918 ,  0.918 ,\n",
       "         0.9175]),\n",
       " 'test_split3_score': array([ 0.908 ,  0.908 ,  0.91  ,  0.91  ,  0.909 ,  0.909 ,  0.9095,\n",
       "         0.91  ,  0.9115,  0.9105,  0.9105,  0.9105,  0.911 ,  0.911 ,\n",
       "         0.911 ,  0.9115,  0.911 ,  0.911 ,  0.9115,  0.911 ,  0.911 ,\n",
       "         0.911 ,  0.9115,  0.911 ,  0.912 ,  0.9125,  0.912 ,  0.9125,\n",
       "         0.9125,  0.9125,  0.9125,  0.9125,  0.9125,  0.9125,  0.9125,\n",
       "         0.9125,  0.9125,  0.913 ,  0.913 ,  0.913 ,  0.913 ,  0.9125,\n",
       "         0.9125,  0.913 ,  0.913 ,  0.913 ,  0.913 ,  0.913 ,  0.913 ,\n",
       "         0.913 ,  0.9125,  0.9115,  0.913 ,  0.9135,  0.913 ,  0.9115,\n",
       "         0.911 ,  0.911 ,  0.9105,  0.9105,  0.9105,  0.911 ,  0.911 ,\n",
       "         0.911 ,  0.911 ,  0.9115,  0.9115,  0.9115,  0.9115,  0.911 ,\n",
       "         0.911 ,  0.911 ,  0.9105,  0.911 ,  0.9105,  0.911 ,  0.9105,\n",
       "         0.911 ,  0.9105,  0.9105,  0.9105,  0.911 ,  0.911 ,  0.911 ,\n",
       "         0.911 ,  0.911 ,  0.911 ,  0.911 ,  0.911 ,  0.911 ,  0.911 ,\n",
       "         0.911 ,  0.911 ,  0.911 ,  0.911 ,  0.911 ,  0.911 ,  0.911 ,\n",
       "         0.911 ]),\n",
       " 'test_split4_score': array([ 0.90795398,  0.91145573,  0.91295648,  0.91295648,  0.91395698,\n",
       "         0.91295648,  0.91395698,  0.91395698,  0.91395698,  0.91395698,\n",
       "         0.91445723,  0.91445723,  0.91445723,  0.91445723,  0.91245623,\n",
       "         0.91445723,  0.91445723,  0.91445723,  0.91445723,  0.91445723,\n",
       "         0.91445723,  0.91495748,  0.91445723,  0.91495748,  0.91545773,\n",
       "         0.91495748,  0.91545773,  0.91545773,  0.91595798,  0.91545773,\n",
       "         0.91545773,  0.91545773,  0.91595798,  0.91895948,  0.91795898,\n",
       "         0.91795898,  0.91845923,  0.91845923,  0.91845923,  0.91795898,\n",
       "         0.91845923,  0.91845923,  0.91845923,  0.91845923,  0.91845923,\n",
       "         0.91795898,  0.91795898,  0.91845923,  0.91795898,  0.91845923,\n",
       "         0.91845923,  0.91845923,  0.91845923,  0.91795898,  0.91795898,\n",
       "         0.91795898,  0.91745873,  0.91745873,  0.91745873,  0.91795898,\n",
       "         0.91795898,  0.91845923,  0.91845923,  0.91845923,  0.91795898,\n",
       "         0.91845923,  0.91845923,  0.91795898,  0.91795898,  0.91745873,\n",
       "         0.91745873,  0.91745873,  0.91695848,  0.91695848,  0.91645823,\n",
       "         0.91645823,  0.91695848,  0.91695848,  0.91645823,  0.91695848,\n",
       "         0.91695848,  0.91695848,  0.91645823,  0.91695848,  0.91695848,\n",
       "         0.91695848,  0.91745873,  0.91645823,  0.91695848,  0.91695848,\n",
       "         0.91795898,  0.91745873,  0.91645823,  0.91645823,  0.91645823,\n",
       "         0.91645823,  0.91645823,  0.91645823,  0.91645823]),\n",
       " 'test_std_score': array([ 0.00419848,  0.00458737,  0.00460734,  0.00516213,  0.00538611,\n",
       "         0.00506139,  0.00498701,  0.00513813,  0.00501101,  0.00496289,\n",
       "         0.00477716,  0.00459902,  0.00458813,  0.00419054,  0.00450839,\n",
       "         0.00411221,  0.00447783,  0.00429658,  0.00411221,  0.00429658,\n",
       "         0.00453218,  0.00489106,  0.00440915,  0.00448688,  0.00456548,\n",
       "         0.00449018,  0.00467372,  0.00451695,  0.00461355,  0.00464685,\n",
       "         0.00476794,  0.00473849,  0.0045557 ,  0.00516767,  0.00520496,\n",
       "         0.00520496,  0.00562169,  0.00546745,  0.00531159,  0.00558494,\n",
       "         0.00547571,  0.00544825,  0.00542249,  0.00552118,  0.005586  ,\n",
       "         0.00546   ,  0.00546   ,  0.005586  ,  0.00549469,  0.00547571,\n",
       "         0.00552118,  0.00555008,  0.00551756,  0.00554   ,  0.0056993 ,\n",
       "         0.00572555,  0.00573674,  0.00564091,  0.00553713,  0.0056384 ,\n",
       "         0.00569227,  0.00576834,  0.00555008,  0.00540305,  0.00534988,\n",
       "         0.00555455,  0.00555455,  0.00551554,  0.00551554,  0.00550176,\n",
       "         0.00557843,  0.00544784,  0.005631  ,  0.00581103,  0.00582467,\n",
       "         0.00559525,  0.00610725,  0.00609249,  0.00615607,  0.00610809,\n",
       "         0.00597401,  0.00568493,  0.00538855,  0.00560964,  0.00547797,\n",
       "         0.00540534,  0.00550176,  0.0053147 ,  0.00540534,  0.00533645,\n",
       "         0.00553364,  0.00557313,  0.00505233,  0.0052789 ,  0.00540618,\n",
       "         0.00500764,  0.00519388,  0.00519388,  0.00507114])}"
      ]
     },
     "execution_count": 14,
     "metadata": {},
     "output_type": "execute_result"
    }
   ],
   "source": [
    "gs_gbcv.results_"
   ]
  },
  {
   "cell_type": "code",
   "execution_count": 4,
   "metadata": {
    "collapsed": false
   },
   "outputs": [
    {
     "name": "stdout",
     "output_type": "stream",
     "text": [
      "93\n",
      "10\n"
     ]
    }
   ],
   "source": [
    "from sklearn.utils.testing import assert_almost_equal\n",
    "\n",
    "print(gs_gbcv.best_estimator_.n_estimators)\n",
    "print(gbccv.best_estimator_.n_estimators)\n",
    "\n",
    "# assert_almost_equal(gs_gbcv.best_estimator_.predict_proba(X),\n",
    "#                     gbccv.best_estimator_.predict_proba(X))"
   ]
  },
  {
   "cell_type": "code",
   "execution_count": 6,
   "metadata": {
    "collapsed": false
   },
   "outputs": [
    {
     "data": {
      "text/plain": [
       "array([ 1.23606116,  1.11309759,  1.00963735,  0.92220526,  0.84914598,\n",
       "        0.78503404,  0.73146333,  0.6846948 ,  0.64285846,  0.60623699,\n",
       "        0.5680244 ])"
      ]
     },
     "execution_count": 6,
     "metadata": {},
     "output_type": "execute_result"
    }
   ],
   "source": [
    "gbccv.best_estimator_.train_score_"
   ]
  },
  {
   "cell_type": "code",
   "execution_count": 16,
   "metadata": {
    "collapsed": false
   },
   "outputs": [
    {
     "data": {
      "text/plain": [
       "array([ 1.2524145 ,  1.14221217,  1.0503562 ,  0.97340518,  0.90841249,\n",
       "        0.85226237,  0.80437878,  0.76312546,  0.72818248,  0.69712547,\n",
       "        0.67054036,  0.64717796,  0.62685904,  0.60895972,  0.59271226,\n",
       "        0.57864618,  0.56672179,  0.55382711,  0.54434467,  0.53538203,\n",
       "        0.52587676,  0.51848051,  0.5125013 ,  0.50622393,  0.50089196,\n",
       "        0.49507113,  0.49021927,  0.48499923,  0.48071931,  0.477123  ,\n",
       "        0.47374711,  0.47006801,  0.46732341,  0.4649692 ,  0.46278586,\n",
       "        0.45962777,  0.45717271,  0.45484543,  0.45339246,  0.45147373,\n",
       "        0.45022306,  0.44863775,  0.44686975,  0.44560477])"
      ]
     },
     "execution_count": 16,
     "metadata": {},
     "output_type": "execute_result"
    }
   ],
   "source": [
    "gs_gbcv.best_estimator_.train_score_"
   ]
  },
  {
   "cell_type": "code",
   "execution_count": 11,
   "metadata": {
    "collapsed": false
   },
   "outputs": [
    {
     "data": {
      "text/plain": [
       "<bound method GradientBoostingClassifier.score of GradientBoostingClassifier(criterion='friedman_mse', init=None,\n",
       "              learning_rate=0.10000000000000001, loss='deviance',\n",
       "              max_depth=3, max_features=None, max_leaf_nodes=None,\n",
       "              min_samples_leaf=1, min_samples_split=2,\n",
       "              min_weight_fraction_leaf=0.0, n_estimators=10,\n",
       "              presort='auto', random_state=0, subsample=1.0, verbose=0,\n",
       "              warm_start=False)>"
      ]
     },
     "execution_count": 11,
     "metadata": {},
     "output_type": "execute_result"
    }
   ],
   "source": [
    "from sklearn.metrics.scorer import check_scoring\n",
    "\n",
    "gbccv.best_estimator_.score"
   ]
  },
  {
   "cell_type": "code",
   "execution_count": null,
   "metadata": {
    "collapsed": false
   },
   "outputs": [
    {
     "name": "stdout",
     "output_type": "stream",
     "text": [
      "\n",
      "* boston dataset with 506 samples, 13 features run with n_jobs=4\n",
      " took 0.24s\n",
      "\n",
      "* covtype dataset with 581012 samples, 54 features run with n_jobs=4\n"
     ]
    }
   ],
   "source": [
    "# Benchmark all of these on RegressionCV itself. (It can handle both continuous and non continuous data)\n",
    "\n",
    "for n_jobs in [4, 8]:\n",
    "    for name, dataset in datasets.items():\n",
    "        X, y = dataset.data[:n_samples, :], dataset.target[:n_samples]\n",
    "        with open(FILENAME, 'w+') as bench_results:\n",
    "            bench_results.write(\"\\n* %s dataset with %d samples, %d features run with n_jobs=%d\"\n",
    "                                % (name, X.shape[0], X.shape[1], n_jobs))\n",
    "            print(\"\\n* %s dataset with %d samples, %d features run with n_jobs=%d\"\n",
    "                  % (name, X.shape[0], X.shape[1], n_jobs))\n",
    "\n",
    "        start = time()\n",
    "        start_mem_usage = memory_usage()\n",
    "        gbrcv = GradientBoostingRegressorCV(n_jobs=4, random_state=42)\n",
    "        gbrcv.fit(X, y)\n",
    "        end_mem_usage = memory_usage()\n",
    "        end = time()\n",
    "        \n",
    "        with open(FILENAME, 'w+') as bench_results:\n",
    "            bench_results.write(\" took %0.2fs\"\n",
    "                                % (end - start,))# end_mem_usage - start_mem_usage))\n",
    "        \n",
    "        print(\" took %0.2fs\"\n",
    "              % (end - start,))# end_mem_usage - start_mem_usage))"
   ]
  },
  {
   "cell_type": "code",
   "execution_count": 8,
   "metadata": {
    "collapsed": false
   },
   "outputs": [
    {
     "data": {
      "text/plain": [
       "1"
      ]
     },
     "execution_count": 8,
     "metadata": {},
     "output_type": "execute_result"
    }
   ],
   "source": [
    "from sklearn.model_selection import ParameterGrid\n",
    "\n",
    "params = {'presort': 'auto', 'loss': 'deviance',\n",
    "          'subsample': 1.0, 'max_leaf_nodes': None,\n",
    "          'learning_rate': 0.10000000000000001, 'min_samples_leaf': 1,\n",
    "          'min_samples_split': 2, 'init': None, 'min_weight_fraction_leaf': 0.0,\n",
    "          'max_features': None, 'max_depth': 3}\n",
    "\n",
    "for key, value in params.items():\n",
    "    params[key] = np.atleast_1d(value)\n",
    "\n",
    "pg = ParameterGrid(params)\n",
    "len(list(pg))"
   ]
  },
  {
   "cell_type": "code",
   "execution_count": 2,
   "metadata": {
    "collapsed": false
   },
   "outputs": [],
   "source": [
    "# With the threading\n",
    "\n",
    "* boston dataset with 506 samples, 13 features run with n_jobs=4\n",
    " took 0.26s\n",
    "\n",
    "* covtype dataset with 581012 samples, 54 features run with n_jobs=4\n",
    " took 110.35s\n",
    "\n",
    "* california_housing dataset with 20640 samples, 8 features run with n_jobs=4\n",
    " took 3.30s\n",
    "\n",
    "* toy dataset with 1000000 samples, 20 features run with n_jobs=4\n",
    " took 520.50s\n",
    "\n",
    "* iris dataset with 150 samples, 4 features run with n_jobs=4\n",
    " took 0.15s\n",
    "\n",
    "* boston dataset with 506 samples, 13 features run with n_jobs=8\n",
    " took 0.23s\n",
    "\n",
    "* covtype dataset with 581012 samples, 54 features run with n_jobs=8\n",
    " took 108.83s\n",
    "\n",
    "* california_housing dataset with 20640 samples, 8 features run with n_jobs=8\n",
    " took 3.20s\n",
    "\n",
    "* toy dataset with 1000000 samples, 20 features run with n_jobs=8\n",
    " took 511.35s\n",
    "\n",
    "* iris dataset with 150 samples, 4 features run with n_jobs=8\n",
    " took 0.14s\n",
    "    \n",
    "    \n",
    "# Multiprocessing\n",
    "\n",
    "* boston dataset with 506 samples, 13 features run with n_jobs=4\n",
    " took 0.31s\n",
    "\n",
    "* covtype dataset with 581012 samples, 54 features run with n_jobs=4\n",
    " took 108.38s\n",
    "\n",
    "* california_housing dataset with 20640 samples, 8 features run with n_jobs=4\n",
    " took 3.02s\n",
    "\n",
    "* toy dataset with 1000000 samples, 20 features run with n_jobs=4\n",
    " took 445.69s\n",
    "\n",
    "* iris dataset with 150 samples, 4 features run with n_jobs=4\n",
    " took 0.18s\n",
    "\n",
    "* boston dataset with 506 samples, 13 features run with n_jobs=8\n",
    " took 0.31s\n",
    "\n",
    "* covtype dataset with 581012 samples, 54 features run with n_jobs=8\n",
    " took 113.60s\n",
    "\n",
    "* california_housing dataset with 20640 samples, 8 features run with n_jobs=8\n",
    " took 3.11s\n",
    "\n",
    "* toy dataset with 1000000 samples, 20 features run with n_jobs=8\n",
    " took 457.10s\n",
    "\n",
    "* iris dataset with 150 samples, 4 features run with n_jobs=8\n",
    " took 0.18s"
   ]
  },
  {
   "cell_type": "code",
   "execution_count": 3,
   "metadata": {
    "collapsed": false
   },
   "outputs": [
    {
     "name": "stdout",
     "output_type": "stream",
     "text": [
      "(581012, 54) (581012,)\n"
     ]
    }
   ],
   "source": [
    "X, y = covtype.data, covtype.target\n",
    "\n",
    "gbc = GradientBoostingClassifierCV(n_jobs = 8)\n",
    "\n",
    "print X.shape, y.shape"
   ]
  },
  {
   "cell_type": "code",
   "execution_count": 27,
   "metadata": {
    "collapsed": false
   },
   "outputs": [],
   "source": []
  },
  {
   "cell_type": "code",
   "execution_count": null,
   "metadata": {
    "collapsed": false
   },
   "outputs": [],
   "source": []
  },
  {
   "cell_type": "code",
   "execution_count": null,
   "metadata": {
    "collapsed": true
   },
   "outputs": [],
   "source": [
    "X, y = twenty_newsgroups.data, twenty_newsgroups.target\n",
    "\n",
    "gbc = GradientBoostingClassifierCV(n_jobs=None)"
   ]
  },
  {
   "cell_type": "code",
   "execution_count": null,
   "metadata": {
    "collapsed": false
   },
   "outputs": [],
   "source": [
    "%%memit\n",
    "\n",
    "# Dataset - Covtype full with shape - (581012, 54)\n",
    "#\n",
    "# * n_jobs = None\n",
    "#     With multiprocessing - Used MB and took s\n",
    "#     With threading - Used MB and took s\n",
    "#\n",
    "# * n_jobs = 4 (total available number of processors = 8)\n",
    "#     With multiprocessing - (pre_dispatch = '1*n_jobs') - Used MB and took s\n",
    "#     With threading - Used MB and took s\n",
    "#\n",
    "# * n_jobs = 8 (total available number of processors = 8)\n",
    "#     With multiprocessing - (pre_dispatch = '1*n_jobs') - Used MB and took s\n",
    "#     With threading - Used MB and took s\n",
    "#\n",
    "\n",
    "gbc.fit(X, y)"
   ]
  },
  {
   "cell_type": "code",
   "execution_count": null,
   "metadata": {
    "collapsed": false
   },
   "outputs": [],
   "source": [
    "%timeit\n",
    "\n",
    "gbc.fit(X, y)"
   ]
  },
  {
   "cell_type": "code",
   "execution_count": null,
   "metadata": {
    "collapsed": true
   },
   "outputs": [],
   "source": [
    "print X.shape, y.shape"
   ]
  },
  {
   "cell_type": "code",
   "execution_count": null,
   "metadata": {
    "collapsed": true
   },
   "outputs": [],
   "source": []
  }
 ],
 "metadata": {
  "kernelspec": {
   "display_name": "Python 2",
   "language": "python",
   "name": "python2"
  },
  "language_info": {
   "codemirror_mode": {
    "name": "ipython",
    "version": 2
   },
   "file_extension": ".py",
   "mimetype": "text/x-python",
   "name": "python",
   "nbconvert_exporter": "python",
   "pygments_lexer": "ipython2",
   "version": "2.7.12"
  }
 },
 "nbformat": 4,
 "nbformat_minor": 0
}
