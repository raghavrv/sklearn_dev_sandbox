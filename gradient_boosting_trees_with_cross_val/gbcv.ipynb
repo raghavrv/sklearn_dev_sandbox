{
 "cells": [
  {
   "cell_type": "code",
   "execution_count": 1,
   "metadata": {
    "collapsed": false
   },
   "outputs": [],
   "source": [
    "from sklearn.ensemble import GradientBoostingRegressorCV, GradientBoostingClassifierCV\n",
    "from sklearn.ensemble import GradientBoostingRegressor, GradientBoostingClassifier\n",
    "\n",
    "from sklearn.datasets import load_boston, fetch_covtype, load_iris, make_classification\n",
    "from sklearn.datasets import fetch_20newsgroups_vectorized, fetch_california_housing\n",
    "\n",
    "from sklearn.model_selection import train_test_split\n",
    "\n",
    "# Let's load some datasets\n",
    "boston = load_boston()\n",
    "covtype = fetch_covtype()\n",
    "iris = load_iris()\n",
    "twenty_newsgroups = fetch_20newsgroups_vectorized()\n",
    "california_housing = fetch_california_housing()"
   ]
  },
  {
   "cell_type": "code",
   "execution_count": 2,
   "metadata": {
    "collapsed": false
   },
   "outputs": [],
   "source": [
    "%load_ext memory_profiler"
   ]
  },
  {
   "cell_type": "code",
   "execution_count": 3,
   "metadata": {
    "collapsed": false
   },
   "outputs": [
    {
     "name": "stdout",
     "output_type": "stream",
     "text": [
      "(581012, 54) (581012,)\n"
     ]
    }
   ],
   "source": [
    "X, y = covtype.data, covtype.target\n",
    "\n",
    "gbc = GradientBoostingClassifierCV(n_jobs = None)\n",
    "\n",
    "print X.shape, y.shape"
   ]
  },
  {
   "cell_type": "code",
   "execution_count": null,
   "metadata": {
    "collapsed": false
   },
   "outputs": [],
   "source": [
    "%%memit\n",
    "\n",
    "# Dataset - Covtype full with shape - (581012, 54)\n",
    "#\n",
    "# * n_jobs = None\n",
    "#     With multiprocessing - Used MB and took s\n",
    "#     With threading - Used MB and took s\n",
    "#\n",
    "# * n_jobs = 4 (total available number of processors = 8)\n",
    "#     With multiprocessing - (pre_dispatch = '1*n_jobs') - Used MB and took s\n",
    "#     With threading - Used MB and took s\n",
    "#\n",
    "# * n_jobs = 8 (total available number of processors = 8)\n",
    "#     With multiprocessing - (pre_dispatch = '1*n_jobs') - Used MB and took s\n",
    "#     With threading - Used MB and took s\n",
    "#\n",
    "\n",
    "gbc = GradientBoostingClassifierCV(n_jobs = None)\n",
    "\n",
    "gbc.fit(X, y)"
   ]
  },
  {
   "cell_type": "code",
   "execution_count": null,
   "metadata": {
    "collapsed": false
   },
   "outputs": [],
   "source": [
    "%%timeit\n",
    "\n",
    "gbc = GradientBoostingClassifierCV(n_jobs = None)\n",
    "\n",
    "gbc.fit(X, y)"
   ]
  },
  {
   "cell_type": "code",
   "execution_count": null,
   "metadata": {
    "collapsed": true
   },
   "outputs": [],
   "source": [
    "X, y = twenty_newsgroups.data, twenty_newsgroups.target\n",
    "\n",
    "gbc = GradientBoostingClassifierCV(n_jobs=None)"
   ]
  },
  {
   "cell_type": "code",
   "execution_count": null,
   "metadata": {
    "collapsed": false
   },
   "outputs": [],
   "source": [
    "%%memit\n",
    "\n",
    "# Dataset - Covtype full with shape - (581012, 54)\n",
    "#\n",
    "# * n_jobs = None\n",
    "#     With multiprocessing - Used MB and took s\n",
    "#     With threading - Used MB and took s\n",
    "#\n",
    "# * n_jobs = 4 (total available number of processors = 8)\n",
    "#     With multiprocessing - (pre_dispatch = '1*n_jobs') - Used MB and took s\n",
    "#     With threading - Used MB and took s\n",
    "#\n",
    "# * n_jobs = 8 (total available number of processors = 8)\n",
    "#     With multiprocessing - (pre_dispatch = '1*n_jobs') - Used MB and took s\n",
    "#     With threading - Used MB and took s\n",
    "#\n",
    "\n",
    "gbc.fit(X, y)"
   ]
  },
  {
   "cell_type": "code",
   "execution_count": null,
   "metadata": {
    "collapsed": false
   },
   "outputs": [],
   "source": [
    "%timeit\n",
    "\n",
    "gbc.fit(X, y)"
   ]
  },
  {
   "cell_type": "code",
   "execution_count": null,
   "metadata": {
    "collapsed": true
   },
   "outputs": [],
   "source": [
    "print X.shape, y.shape"
   ]
  },
  {
   "cell_type": "code",
   "execution_count": null,
   "metadata": {
    "collapsed": true
   },
   "outputs": [],
   "source": []
  }
 ],
 "metadata": {
  "kernelspec": {
   "display_name": "Python 2",
   "language": "python",
   "name": "python2"
  },
  "language_info": {
   "codemirror_mode": {
    "name": "ipython",
    "version": 2
   },
   "file_extension": ".py",
   "mimetype": "text/x-python",
   "name": "python",
   "nbconvert_exporter": "python",
   "pygments_lexer": "ipython2",
   "version": "2.7.12"
  }
 },
 "nbformat": 4,
 "nbformat_minor": 0
}
