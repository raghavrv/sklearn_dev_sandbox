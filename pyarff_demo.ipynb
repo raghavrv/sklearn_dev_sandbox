{
 "cells": [
  {
   "cell_type": "code",
   "execution_count": 1,
   "metadata": {
    "collapsed": false
   },
   "outputs": [
    {
     "name": "stdout",
     "output_type": "stream",
     "text": [
      "Compiling pyarff/_pyarff.pyx because it changed.\n",
      "Compiling pyarff/utils.pyx because it changed.\n",
      "[1/2] Cythonizing pyarff/_pyarff.pyx\n",
      "warning: pyarff/_pyarff.pyx:646:23: the result of using negative indices inside of code sections marked as 'wraparound=False' is undefined\n",
      "[2/2] Cythonizing pyarff/utils.pyx\n",
      "running develop\n",
      "running egg_info\n",
      "writing top-level names to pyarff.egg-info/top_level.txt\n",
      "writing pyarff.egg-info/PKG-INFO\n",
      "writing dependency_links to pyarff.egg-info/dependency_links.txt\n",
      "writing requirements to pyarff.egg-info/requires.txt\n",
      "reading manifest file 'pyarff.egg-info/SOURCES.txt'\n",
      "reading manifest template 'MANIFEST.in'\n",
      "writing manifest file 'pyarff.egg-info/SOURCES.txt'\n",
      "running build_ext\n",
      "building 'pyarff._pyarff' extension\n",
      "gcc -pthread -Wsign-compare -DNDEBUG -g -fwrapv -O3 -Wall -Wstrict-prototypes -fPIC -I/home/raghavrv/anaconda3/envs/python35/lib/python3.5/site-packages/numpy/core/include -I/home/raghavrv/anaconda3/envs/python35/include/python3.5m -I/home/raghavrv/anaconda3/envs/python35/include/python3.5m -c pyarff/_pyarff.cpp -o build/temp.linux-x86_64-3.5/pyarff/_pyarff.o\n",
      "\u001b[01m\u001b[Kcc1plus:\u001b[m\u001b[K \u001b[01;35m\u001b[Kwarning: \u001b[m\u001b[Kcommand line option ‘\u001b[01m\u001b[K-Wstrict-prototypes\u001b[m\u001b[K’ is valid for C/ObjC but not for C++\n",
      "In file included from \u001b[01m\u001b[K/home/raghavrv/anaconda3/envs/python35/lib/python3.5/site-packages/numpy/core/include/numpy/ndarraytypes.h:1777:0\u001b[m\u001b[K,\n",
      "                 from \u001b[01m\u001b[K/home/raghavrv/anaconda3/envs/python35/lib/python3.5/site-packages/numpy/core/include/numpy/ndarrayobject.h:18\u001b[m\u001b[K,\n",
      "                 from \u001b[01m\u001b[K/home/raghavrv/anaconda3/envs/python35/lib/python3.5/site-packages/numpy/core/include/numpy/arrayobject.h:4\u001b[m\u001b[K,\n",
      "                 from \u001b[01m\u001b[Kpyarff/_pyarff.cpp:268\u001b[m\u001b[K:\n",
      "\u001b[01m\u001b[K/home/raghavrv/anaconda3/envs/python35/lib/python3.5/site-packages/numpy/core/include/numpy/npy_1_7_deprecated_api.h:15:2:\u001b[m\u001b[K \u001b[01;35m\u001b[Kwarning: \u001b[m\u001b[K#warning \"Using deprecated NumPy API, disable it by \" \"#defining NPY_NO_DEPRECATED_API NPY_1_7_API_VERSION\" [-Wcpp]\n",
      " #warning \"Using deprecated NumPy API, disable it by \" \\\n",
      "\u001b[01;32m\u001b[K  ^\u001b[m\u001b[K\n",
      "\u001b[01m\u001b[Kpyarff/_pyarff.cpp:\u001b[m\u001b[K In function ‘\u001b[01m\u001b[Kvoid __pyx_f_6pyarff_7_pyarff_10ARFFReader__scan_data(__pyx_obj_6pyarff_7_pyarff_ARFFReader*)\u001b[m\u001b[K’:\n",
      "\u001b[01m\u001b[Kpyarff/_pyarff.cpp:4428:36:\u001b[m\u001b[K \u001b[01;35m\u001b[Kwarning: \u001b[m\u001b[Kcomparison between signed and unsigned integer expressions [-Wsign-compare]\n",
      "     __pyx_t_4 = ((__pyx_v_line_len != -1L) != 0);\n",
      "\u001b[01;32m\u001b[K                                    ^\u001b[m\u001b[K\n",
      "\u001b[01m\u001b[Kpyarff/_pyarff.cpp:4480:36:\u001b[m\u001b[K \u001b[01;35m\u001b[Kwarning: \u001b[m\u001b[Kcomparison between signed and unsigned integer expressions [-Wsign-compare]\n",
      "     __pyx_t_2 = ((__pyx_v_line_len != -1L) != 0);\n",
      "\u001b[01;32m\u001b[K                                    ^\u001b[m\u001b[K\n",
      "\u001b[01m\u001b[Kpyarff/_pyarff.cpp:4499:36:\u001b[m\u001b[K \u001b[01;35m\u001b[Kwarning: \u001b[m\u001b[Kcomparison between signed and unsigned integer expressions [-Wsign-compare]\n",
      "     __pyx_t_2 = ((__pyx_v_line_len == -1L) != 0);\n",
      "\u001b[01;32m\u001b[K                                    ^\u001b[m\u001b[K\n",
      "\u001b[01m\u001b[Kpyarff/_pyarff.cpp:\u001b[m\u001b[K In function ‘\u001b[01m\u001b[Kvoid __pyx_f_6pyarff_7_pyarff_10ARFFReader__read_data_dense(__pyx_obj_6pyarff_7_pyarff_ARFFReader*, __Pyx_memviewslice)\u001b[m\u001b[K’:\n",
      "\u001b[01m\u001b[Kpyarff/_pyarff.cpp:4942:36:\u001b[m\u001b[K \u001b[01;35m\u001b[Kwarning: \u001b[m\u001b[Kcomparison between signed and unsigned integer expressions [-Wsign-compare]\n",
      "     __pyx_t_5 = ((__pyx_v_line_len != -1L) != 0);\n",
      "\u001b[01;32m\u001b[K                                    ^\u001b[m\u001b[K\n",
      "\u001b[01m\u001b[Kpyarff/_pyarff.cpp:5003:36:\u001b[m\u001b[K \u001b[01;35m\u001b[Kwarning: \u001b[m\u001b[Kcomparison between signed and unsigned integer expressions [-Wsign-compare]\n",
      "     __pyx_t_3 = ((__pyx_v_line_len != -1L) != 0);\n",
      "\u001b[01;32m\u001b[K                                    ^\u001b[m\u001b[K\n",
      "\u001b[01m\u001b[Kpyarff/_pyarff.cpp:5022:36:\u001b[m\u001b[K \u001b[01;35m\u001b[Kwarning: \u001b[m\u001b[Kcomparison between signed and unsigned integer expressions [-Wsign-compare]\n",
      "     __pyx_t_3 = ((__pyx_v_line_len == -1L) != 0);\n",
      "\u001b[01;32m\u001b[K                                    ^\u001b[m\u001b[K\n",
      "In file included from \u001b[01m\u001b[K/home/raghavrv/anaconda3/envs/python35/lib/python3.5/site-packages/numpy/core/include/numpy/ndarrayobject.h:27:0\u001b[m\u001b[K,\n",
      "                 from \u001b[01m\u001b[K/home/raghavrv/anaconda3/envs/python35/lib/python3.5/site-packages/numpy/core/include/numpy/arrayobject.h:4\u001b[m\u001b[K,\n",
      "                 from \u001b[01m\u001b[Kpyarff/_pyarff.cpp:268\u001b[m\u001b[K:\n",
      "\u001b[01m\u001b[K/home/raghavrv/anaconda3/envs/python35/lib/python3.5/site-packages/numpy/core/include/numpy/__multiarray_api.h:\u001b[m\u001b[K At global scope:\n",
      "\u001b[01m\u001b[K/home/raghavrv/anaconda3/envs/python35/lib/python3.5/site-packages/numpy/core/include/numpy/__multiarray_api.h:1448:1:\u001b[m\u001b[K \u001b[01;35m\u001b[Kwarning: \u001b[m\u001b[K‘\u001b[01m\u001b[Kint _import_array()\u001b[m\u001b[K’ defined but not used [-Wunused-function]\n",
      " _import_array(void)\n",
      "\u001b[01;32m\u001b[K ^\u001b[m\u001b[K\n",
      "g++ -pthread -shared -L/home/raghavrv/anaconda3/envs/python35/lib -Wl,-rpath=/home/raghavrv/anaconda3/envs/python35/lib,--no-as-needed build/temp.linux-x86_64-3.5/pyarff/_pyarff.o -L/home/raghavrv/anaconda3/envs/python35/lib -lpython3.5m -o build/lib.linux-x86_64-3.5/pyarff/_pyarff.cpython-35m-x86_64-linux-gnu.so\n",
      "building 'pyarff.utils' extension\n",
      "gcc -pthread -Wsign-compare -DNDEBUG -g -fwrapv -O3 -Wall -Wstrict-prototypes -fPIC -I/home/raghavrv/anaconda3/envs/python35/lib/python3.5/site-packages/numpy/core/include -I/home/raghavrv/anaconda3/envs/python35/include/python3.5m -I/home/raghavrv/anaconda3/envs/python35/include/python3.5m -c pyarff/utils.cpp -o build/temp.linux-x86_64-3.5/pyarff/utils.o\n",
      "\u001b[01m\u001b[Kcc1plus:\u001b[m\u001b[K \u001b[01;35m\u001b[Kwarning: \u001b[m\u001b[Kcommand line option ‘\u001b[01m\u001b[K-Wstrict-prototypes\u001b[m\u001b[K’ is valid for C/ObjC but not for C++\n",
      "In file included from \u001b[01m\u001b[K/home/raghavrv/anaconda3/envs/python35/lib/python3.5/site-packages/numpy/core/include/numpy/ndarraytypes.h:1777:0\u001b[m\u001b[K,\n",
      "                 from \u001b[01m\u001b[K/home/raghavrv/anaconda3/envs/python35/lib/python3.5/site-packages/numpy/core/include/numpy/ndarrayobject.h:18\u001b[m\u001b[K,\n",
      "                 from \u001b[01m\u001b[K/home/raghavrv/anaconda3/envs/python35/lib/python3.5/site-packages/numpy/core/include/numpy/arrayobject.h:4\u001b[m\u001b[K,\n",
      "                 from \u001b[01m\u001b[Kpyarff/utils.cpp:260\u001b[m\u001b[K:\n",
      "\u001b[01m\u001b[K/home/raghavrv/anaconda3/envs/python35/lib/python3.5/site-packages/numpy/core/include/numpy/npy_1_7_deprecated_api.h:15:2:\u001b[m\u001b[K \u001b[01;35m\u001b[Kwarning: \u001b[m\u001b[K#warning \"Using deprecated NumPy API, disable it by \" \"#defining NPY_NO_DEPRECATED_API NPY_1_7_API_VERSION\" [-Wcpp]\n",
      " #warning \"Using deprecated NumPy API, disable it by \" \\\n",
      "\u001b[01;32m\u001b[K  ^\u001b[m\u001b[K\n",
      "\u001b[01m\u001b[Kpyarff/utils.cpp:\u001b[m\u001b[K In function ‘\u001b[01m\u001b[K__pyx_t_6pyarff_5utils_DOUBLE_t __pyx_f_6pyarff_5utils_string_to_double(char*, __pyx_t_6pyarff_5utils_SIZE_t, int)\u001b[m\u001b[K’:\n",
      "\u001b[01m\u001b[Kpyarff/utils.cpp:1246:29:\u001b[m\u001b[K \u001b[01;35m\u001b[Kwarning: \u001b[m\u001b[Kcomparison between signed and unsigned integer expressions [-Wsign-compare]\n",
      "     __pyx_t_1 = ((__pyx_v_i < __pyx_v_total_len) != 0);\n",
      "\u001b[01;32m\u001b[K                             ^\u001b[m\u001b[K\n",
      "\u001b[01m\u001b[Kpyarff/utils.cpp:1332:29:\u001b[m\u001b[K \u001b[01;35m\u001b[Kwarning: \u001b[m\u001b[Kcomparison between signed and unsigned integer expressions [-Wsign-compare]\n",
      "     __pyx_t_1 = ((__pyx_v_i < __pyx_v_total_len) != 0);\n",
      "\u001b[01;32m\u001b[K                             ^\u001b[m\u001b[K\n",
      "\u001b[01m\u001b[Kpyarff/utils.cpp:\u001b[m\u001b[K In function ‘\u001b[01m\u001b[K__pyx_t_6pyarff_5utils_SIZE_t __pyx_f_6pyarff_5utils_string_to_int(char*, __pyx_t_6pyarff_5utils_SIZE_t, int)\u001b[m\u001b[K’:\n",
      "\u001b[01m\u001b[Kpyarff/utils.cpp:1593:29:\u001b[m\u001b[K \u001b[01;35m\u001b[Kwarning: \u001b[m\u001b[Kcomparison between signed and unsigned integer expressions [-Wsign-compare]\n",
      "     __pyx_t_1 = ((__pyx_v_i < __pyx_v_total_len) != 0);\n",
      "\u001b[01;32m\u001b[K                             ^\u001b[m\u001b[K\n",
      "In file included from \u001b[01m\u001b[K/home/raghavrv/anaconda3/envs/python35/lib/python3.5/site-packages/numpy/core/include/numpy/ndarrayobject.h:27:0\u001b[m\u001b[K,\n",
      "                 from \u001b[01m\u001b[K/home/raghavrv/anaconda3/envs/python35/lib/python3.5/site-packages/numpy/core/include/numpy/arrayobject.h:4\u001b[m\u001b[K,\n",
      "                 from \u001b[01m\u001b[Kpyarff/utils.cpp:260\u001b[m\u001b[K:\n",
      "\u001b[01m\u001b[K/home/raghavrv/anaconda3/envs/python35/lib/python3.5/site-packages/numpy/core/include/numpy/__multiarray_api.h:\u001b[m\u001b[K At global scope:\n",
      "\u001b[01m\u001b[K/home/raghavrv/anaconda3/envs/python35/lib/python3.5/site-packages/numpy/core/include/numpy/__multiarray_api.h:1448:1:\u001b[m\u001b[K \u001b[01;35m\u001b[Kwarning: \u001b[m\u001b[K‘\u001b[01m\u001b[Kint _import_array()\u001b[m\u001b[K’ defined but not used [-Wunused-function]\n",
      " _import_array(void)\n",
      "\u001b[01;32m\u001b[K ^\u001b[m\u001b[K\n",
      "g++ -pthread -shared -L/home/raghavrv/anaconda3/envs/python35/lib -Wl,-rpath=/home/raghavrv/anaconda3/envs/python35/lib,--no-as-needed build/temp.linux-x86_64-3.5/pyarff/utils.o -L/home/raghavrv/anaconda3/envs/python35/lib -lpython3.5m -o build/lib.linux-x86_64-3.5/pyarff/utils.cpython-35m-x86_64-linux-gnu.so\n",
      "copying build/lib.linux-x86_64-3.5/pyarff/_pyarff.cpython-35m-x86_64-linux-gnu.so -> pyarff\n",
      "copying build/lib.linux-x86_64-3.5/pyarff/utils.cpython-35m-x86_64-linux-gnu.so -> pyarff\n",
      "Creating /home/raghavrv/anaconda3/envs/python35/lib/python3.5/site-packages/pyarff.egg-link (link to .)\n",
      "pyarff 0.0.1 is already the active version in easy-install.pth\n",
      "\n",
      "Installed /home/raghavrv/code/pyarff\n",
      "Processing dependencies for pyarff==0.0.1\n",
      "Searching for scipy==0.18.1\n",
      "Best match: scipy 0.18.1\n",
      "Adding scipy 0.18.1 to easy-install.pth file\n",
      "\n",
      "Using /home/raghavrv/anaconda3/envs/python35/lib/python3.5/site-packages\n",
      "Searching for numpy==1.11.2\n",
      "Best match: numpy 1.11.2\n",
      "Adding numpy 1.11.2 to easy-install.pth file\n",
      "\n",
      "Using /home/raghavrv/anaconda3/envs/python35/lib/python3.5/site-packages\n",
      "Finished processing dependencies for pyarff==0.0.1\n"
     ]
    }
   ],
   "source": [
    "!cd /home/raghavrv/code/pyarff && python setup.py develop"
   ]
  },
  {
   "cell_type": "code",
   "execution_count": 1,
   "metadata": {
    "collapsed": true
   },
   "outputs": [],
   "source": [
    "from pyarff import load_arff_dataset\n",
    "import arff\n",
    "import time\n",
    "from scipy.io.arff import loadarff\n",
    "\n",
    "import numpy as np\n",
    "\n",
    "dataset_file = '/home/raghavrv/Desktop/temp/imdb.arff'"
   ]
  },
  {
   "cell_type": "code",
   "execution_count": 2,
   "metadata": {
    "collapsed": false
   },
   "outputs": [
    {
     "ename": "AttributeError",
     "evalue": "'pyarff._pyarff.ARFFReader' object has no attribute '_read_data_sparse'",
     "output_type": "error",
     "traceback": [
      "\u001b[0;31m---------------------------------------------------------------------------\u001b[0m",
      "\u001b[0;31mAttributeError\u001b[0m                            Traceback (most recent call last)",
      "\u001b[0;32m<ipython-input-2-3c0fafd8a82b>\u001b[0m in \u001b[0;36m<module>\u001b[0;34m()\u001b[0m\n\u001b[1;32m      2\u001b[0m \u001b[0;34m\u001b[0m\u001b[0m\n\u001b[1;32m      3\u001b[0m \u001b[0mstart\u001b[0m \u001b[0;34m=\u001b[0m \u001b[0mtime\u001b[0m\u001b[0;34m.\u001b[0m\u001b[0mtime\u001b[0m\u001b[0;34m(\u001b[0m\u001b[0;34m)\u001b[0m\u001b[0;34m\u001b[0m\u001b[0m\n\u001b[0;32m----> 4\u001b[0;31m \u001b[0mmeta1\u001b[0m\u001b[0;34m,\u001b[0m \u001b[0mdata1\u001b[0m \u001b[0;34m=\u001b[0m \u001b[0mload_arff_dataset\u001b[0m\u001b[0;34m(\u001b[0m\u001b[0mdataset_file\u001b[0m\u001b[0;34m)\u001b[0m\u001b[0;34m\u001b[0m\u001b[0m\n\u001b[0m\u001b[1;32m      5\u001b[0m \u001b[0mprint\u001b[0m\u001b[0;34m(\u001b[0m\u001b[0;34m\"Loaded dataset in %0.8fs\"\u001b[0m \u001b[0;34m%\u001b[0m \u001b[0;34m(\u001b[0m\u001b[0mtime\u001b[0m\u001b[0;34m.\u001b[0m\u001b[0mtime\u001b[0m\u001b[0;34m(\u001b[0m\u001b[0;34m)\u001b[0m \u001b[0;34m-\u001b[0m \u001b[0mstart\u001b[0m\u001b[0;34m)\u001b[0m\u001b[0;34m)\u001b[0m\u001b[0;34m\u001b[0m\u001b[0m\n",
      "\u001b[0;32m/home/raghavrv/code/pyarff/pyarff/pyarff.py\u001b[0m in \u001b[0;36mload_arff_dataset\u001b[0;34m(filename, load_data, encode_nominals)\u001b[0m\n\u001b[1;32m     16\u001b[0m \u001b[0;34m\u001b[0m\u001b[0m\n\u001b[1;32m     17\u001b[0m     \u001b[0;32mif\u001b[0m \u001b[0mload_data\u001b[0m\u001b[0;34m:\u001b[0m\u001b[0;34m\u001b[0m\u001b[0m\n\u001b[0;32m---> 18\u001b[0;31m         \u001b[0mdata\u001b[0m \u001b[0;34m=\u001b[0m \u001b[0marffreader\u001b[0m\u001b[0;34m.\u001b[0m\u001b[0mget_data\u001b[0m\u001b[0;34m(\u001b[0m\u001b[0;34m)\u001b[0m\u001b[0;34m\u001b[0m\u001b[0m\n\u001b[0m\u001b[1;32m     19\u001b[0m \u001b[0;34m\u001b[0m\u001b[0m\n\u001b[1;32m     20\u001b[0m     \u001b[0;32mreturn\u001b[0m \u001b[0mmeta_data\u001b[0m\u001b[0;34m,\u001b[0m \u001b[0mdata\u001b[0m\u001b[0;34m\u001b[0m\u001b[0m\n",
      "\u001b[0;32m/home/raghavrv/code/pyarff/pyarff/_pyarff.pyx\u001b[0m in \u001b[0;36mpyarff._pyarff.ARFFReader.get_data (pyarff/_pyarff.cpp:6863)\u001b[0;34m()\u001b[0m\n",
      "\u001b[0;31mAttributeError\u001b[0m: 'pyarff._pyarff.ARFFReader' object has no attribute '_read_data_sparse'"
     ]
    }
   ],
   "source": [
    "#%%timeit\n",
    "\n",
    "start = time.time()\n",
    "meta1, data1 = load_arff_dataset(dataset_file)\n",
    "print(\"Loaded dataset in %0.8fs\" % (time.time() - start))"
   ]
  },
  {
   "cell_type": "code",
   "execution_count": 3,
   "metadata": {
    "collapsed": false
   },
   "outputs": [
    {
     "ename": "NameError",
     "evalue": "name 'data1' is not defined",
     "output_type": "error",
     "traceback": [
      "\u001b[0;31m---------------------------------------------------------------------------\u001b[0m",
      "\u001b[0;31mNameError\u001b[0m                                 Traceback (most recent call last)",
      "\u001b[0;32m<ipython-input-3-ab3c103dfee6>\u001b[0m in \u001b[0;36m<module>\u001b[0;34m()\u001b[0m\n\u001b[0;32m----> 1\u001b[0;31m \u001b[0mdata1\u001b[0m\u001b[0;34m\u001b[0m\u001b[0m\n\u001b[0m",
      "\u001b[0;31mNameError\u001b[0m: name 'data1' is not defined"
     ]
    }
   ],
   "source": [
    "data1"
   ]
  },
  {
   "cell_type": "code",
   "execution_count": 4,
   "metadata": {
    "collapsed": false
   },
   "outputs": [
    {
     "ename": "ValueError",
     "evalue": "{4 1 value not in ('0', '1')",
     "output_type": "error",
     "traceback": [
      "\u001b[0;31m---------------------------------------------------------------------------\u001b[0m",
      "\u001b[0;31mValueError\u001b[0m                                Traceback (most recent call last)",
      "\u001b[0;32m<ipython-input-4-34bc446a2938>\u001b[0m in \u001b[0;36m<module>\u001b[0;34m()\u001b[0m\n\u001b[1;32m      2\u001b[0m \u001b[0;34m\u001b[0m\u001b[0m\n\u001b[1;32m      3\u001b[0m \u001b[0mstart\u001b[0m \u001b[0;34m=\u001b[0m \u001b[0mtime\u001b[0m\u001b[0;34m.\u001b[0m\u001b[0mtime\u001b[0m\u001b[0;34m(\u001b[0m\u001b[0;34m)\u001b[0m\u001b[0;34m\u001b[0m\u001b[0m\n\u001b[0;32m----> 4\u001b[0;31m \u001b[0mdata2\u001b[0m\u001b[0;34m,\u001b[0m \u001b[0mmeta2\u001b[0m \u001b[0;34m=\u001b[0m \u001b[0mloadarff\u001b[0m\u001b[0;34m(\u001b[0m\u001b[0mdataset_file\u001b[0m\u001b[0;34m)\u001b[0m\u001b[0;34m\u001b[0m\u001b[0m\n\u001b[0m\u001b[1;32m      5\u001b[0m \u001b[0mprint\u001b[0m\u001b[0;34m(\u001b[0m\u001b[0;34m\"Loaded dataset in %0.8fs\"\u001b[0m \u001b[0;34m%\u001b[0m \u001b[0;34m(\u001b[0m\u001b[0mtime\u001b[0m\u001b[0;34m.\u001b[0m\u001b[0mtime\u001b[0m\u001b[0;34m(\u001b[0m\u001b[0;34m)\u001b[0m \u001b[0;34m-\u001b[0m \u001b[0mstart\u001b[0m\u001b[0;34m)\u001b[0m\u001b[0;34m)\u001b[0m\u001b[0;34m\u001b[0m\u001b[0m\n",
      "\u001b[0;32m/home/raghavrv/anaconda3/envs/python35/lib/python3.5/site-packages/scipy/io/arff/arffread.py\u001b[0m in \u001b[0;36mloadarff\u001b[0;34m(f)\u001b[0m\n\u001b[1;32m    540\u001b[0m         \u001b[0mofile\u001b[0m \u001b[0;34m=\u001b[0m \u001b[0mopen\u001b[0m\u001b[0;34m(\u001b[0m\u001b[0mf\u001b[0m\u001b[0;34m,\u001b[0m \u001b[0;34m'rt'\u001b[0m\u001b[0;34m)\u001b[0m\u001b[0;34m\u001b[0m\u001b[0m\n\u001b[1;32m    541\u001b[0m     \u001b[0;32mtry\u001b[0m\u001b[0;34m:\u001b[0m\u001b[0;34m\u001b[0m\u001b[0m\n\u001b[0;32m--> 542\u001b[0;31m         \u001b[0;32mreturn\u001b[0m \u001b[0m_loadarff\u001b[0m\u001b[0;34m(\u001b[0m\u001b[0mofile\u001b[0m\u001b[0;34m)\u001b[0m\u001b[0;34m\u001b[0m\u001b[0m\n\u001b[0m\u001b[1;32m    543\u001b[0m     \u001b[0;32mfinally\u001b[0m\u001b[0;34m:\u001b[0m\u001b[0;34m\u001b[0m\u001b[0m\n\u001b[1;32m    544\u001b[0m         \u001b[0;32mif\u001b[0m \u001b[0mofile\u001b[0m \u001b[0;32mis\u001b[0m \u001b[0;32mnot\u001b[0m \u001b[0mf\u001b[0m\u001b[0;34m:\u001b[0m  \u001b[0;31m# only close what we opened\u001b[0m\u001b[0;34m\u001b[0m\u001b[0m\n",
      "\u001b[0;32m/home/raghavrv/anaconda3/envs/python35/lib/python3.5/site-packages/scipy/io/arff/arffread.py\u001b[0m in \u001b[0;36m_loadarff\u001b[0;34m(ofile)\u001b[0m\n\u001b[1;32m    628\u001b[0m     \u001b[0ma\u001b[0m \u001b[0;34m=\u001b[0m \u001b[0mgenerator\u001b[0m\u001b[0;34m(\u001b[0m\u001b[0mofile\u001b[0m\u001b[0;34m)\u001b[0m\u001b[0;34m\u001b[0m\u001b[0m\n\u001b[1;32m    629\u001b[0m     \u001b[0;31m# No error should happen here: it is a bug otherwise\u001b[0m\u001b[0;34m\u001b[0m\u001b[0;34m\u001b[0m\u001b[0m\n\u001b[0;32m--> 630\u001b[0;31m     \u001b[0mdata\u001b[0m \u001b[0;34m=\u001b[0m \u001b[0mnp\u001b[0m\u001b[0;34m.\u001b[0m\u001b[0mfromiter\u001b[0m\u001b[0;34m(\u001b[0m\u001b[0ma\u001b[0m\u001b[0;34m,\u001b[0m \u001b[0mdescr\u001b[0m\u001b[0;34m)\u001b[0m\u001b[0;34m\u001b[0m\u001b[0m\n\u001b[0m\u001b[1;32m    631\u001b[0m     \u001b[0;32mreturn\u001b[0m \u001b[0mdata\u001b[0m\u001b[0;34m,\u001b[0m \u001b[0mmeta\u001b[0m\u001b[0;34m\u001b[0m\u001b[0m\n\u001b[1;32m    632\u001b[0m \u001b[0;34m\u001b[0m\u001b[0m\n",
      "\u001b[0;32m/home/raghavrv/anaconda3/envs/python35/lib/python3.5/site-packages/scipy/io/arff/arffread.py\u001b[0m in \u001b[0;36mgenerator\u001b[0;34m(row_iter, delim)\u001b[0m\n\u001b[1;32m    624\u001b[0m                 \u001b[0;32mcontinue\u001b[0m\u001b[0;34m\u001b[0m\u001b[0m\n\u001b[1;32m    625\u001b[0m             \u001b[0mrow\u001b[0m \u001b[0;34m=\u001b[0m \u001b[0mraw\u001b[0m\u001b[0;34m.\u001b[0m\u001b[0msplit\u001b[0m\u001b[0;34m(\u001b[0m\u001b[0mdelim\u001b[0m\u001b[0;34m)\u001b[0m\u001b[0;34m\u001b[0m\u001b[0m\n\u001b[0;32m--> 626\u001b[0;31m             \u001b[0;32myield\u001b[0m \u001b[0mtuple\u001b[0m\u001b[0;34m(\u001b[0m\u001b[0;34m[\u001b[0m\u001b[0mconvertors\u001b[0m\u001b[0;34m[\u001b[0m\u001b[0mi\u001b[0m\u001b[0;34m]\u001b[0m\u001b[0;34m(\u001b[0m\u001b[0mrow\u001b[0m\u001b[0;34m[\u001b[0m\u001b[0mi\u001b[0m\u001b[0;34m]\u001b[0m\u001b[0;34m)\u001b[0m \u001b[0;32mfor\u001b[0m \u001b[0mi\u001b[0m \u001b[0;32min\u001b[0m \u001b[0melems\u001b[0m\u001b[0;34m]\u001b[0m\u001b[0;34m)\u001b[0m\u001b[0;34m\u001b[0m\u001b[0m\n\u001b[0m\u001b[1;32m    627\u001b[0m \u001b[0;34m\u001b[0m\u001b[0m\n\u001b[1;32m    628\u001b[0m     \u001b[0ma\u001b[0m \u001b[0;34m=\u001b[0m \u001b[0mgenerator\u001b[0m\u001b[0;34m(\u001b[0m\u001b[0mofile\u001b[0m\u001b[0;34m)\u001b[0m\u001b[0;34m\u001b[0m\u001b[0m\n",
      "\u001b[0;32m/home/raghavrv/anaconda3/envs/python35/lib/python3.5/site-packages/scipy/io/arff/arffread.py\u001b[0m in \u001b[0;36m<listcomp>\u001b[0;34m(.0)\u001b[0m\n\u001b[1;32m    624\u001b[0m                 \u001b[0;32mcontinue\u001b[0m\u001b[0;34m\u001b[0m\u001b[0m\n\u001b[1;32m    625\u001b[0m             \u001b[0mrow\u001b[0m \u001b[0;34m=\u001b[0m \u001b[0mraw\u001b[0m\u001b[0;34m.\u001b[0m\u001b[0msplit\u001b[0m\u001b[0;34m(\u001b[0m\u001b[0mdelim\u001b[0m\u001b[0;34m)\u001b[0m\u001b[0;34m\u001b[0m\u001b[0m\n\u001b[0;32m--> 626\u001b[0;31m             \u001b[0;32myield\u001b[0m \u001b[0mtuple\u001b[0m\u001b[0;34m(\u001b[0m\u001b[0;34m[\u001b[0m\u001b[0mconvertors\u001b[0m\u001b[0;34m[\u001b[0m\u001b[0mi\u001b[0m\u001b[0;34m]\u001b[0m\u001b[0;34m(\u001b[0m\u001b[0mrow\u001b[0m\u001b[0;34m[\u001b[0m\u001b[0mi\u001b[0m\u001b[0;34m]\u001b[0m\u001b[0;34m)\u001b[0m \u001b[0;32mfor\u001b[0m \u001b[0mi\u001b[0m \u001b[0;32min\u001b[0m \u001b[0melems\u001b[0m\u001b[0;34m]\u001b[0m\u001b[0;34m)\u001b[0m\u001b[0;34m\u001b[0m\u001b[0m\n\u001b[0m\u001b[1;32m    627\u001b[0m \u001b[0;34m\u001b[0m\u001b[0m\n\u001b[1;32m    628\u001b[0m     \u001b[0ma\u001b[0m \u001b[0;34m=\u001b[0m \u001b[0mgenerator\u001b[0m\u001b[0;34m(\u001b[0m\u001b[0mofile\u001b[0m\u001b[0;34m)\u001b[0m\u001b[0;34m\u001b[0m\u001b[0m\n",
      "\u001b[0;32m/home/raghavrv/anaconda3/envs/python35/lib/python3.5/site-packages/scipy/io/arff/arffread.py\u001b[0m in \u001b[0;36msafe_nominal\u001b[0;34m(value, pvalue)\u001b[0m\n\u001b[1;32m    387\u001b[0m         \u001b[0;32mreturn\u001b[0m \u001b[0msvalue\u001b[0m\u001b[0;34m\u001b[0m\u001b[0m\n\u001b[1;32m    388\u001b[0m     \u001b[0;32melse\u001b[0m\u001b[0;34m:\u001b[0m\u001b[0;34m\u001b[0m\u001b[0m\n\u001b[0;32m--> 389\u001b[0;31m         \u001b[0;32mraise\u001b[0m \u001b[0mValueError\u001b[0m\u001b[0;34m(\u001b[0m\u001b[0;34m\"%s value not in %s\"\u001b[0m \u001b[0;34m%\u001b[0m \u001b[0;34m(\u001b[0m\u001b[0mstr\u001b[0m\u001b[0;34m(\u001b[0m\u001b[0msvalue\u001b[0m\u001b[0;34m)\u001b[0m\u001b[0;34m,\u001b[0m \u001b[0mstr\u001b[0m\u001b[0;34m(\u001b[0m\u001b[0mpvalue\u001b[0m\u001b[0;34m)\u001b[0m\u001b[0;34m)\u001b[0m\u001b[0;34m)\u001b[0m\u001b[0;34m\u001b[0m\u001b[0m\n\u001b[0m\u001b[1;32m    390\u001b[0m \u001b[0;34m\u001b[0m\u001b[0m\n\u001b[1;32m    391\u001b[0m \u001b[0;34m\u001b[0m\u001b[0m\n",
      "\u001b[0;31mValueError\u001b[0m: {4 1 value not in ('0', '1')"
     ]
    }
   ],
   "source": [
    "#%%timeit\n",
    "\n",
    "start = time.time()\n",
    "data2, meta2 = loadarff(dataset_file)\n",
    "print(\"Loaded dataset in %0.8fs\" % (time.time() - start))"
   ]
  },
  {
   "cell_type": "code",
   "execution_count": 5,
   "metadata": {
    "collapsed": false
   },
   "outputs": [
    {
     "name": "stdout",
     "output_type": "stream",
     "text": [
      "Loaded dataset in 130.90108752s\n"
     ]
    }
   ],
   "source": [
    "#%%timeit\n",
    "\n",
    "start = time.time()\n",
    "loaded_arff = arff.loads(open(dataset_file), encode_nominal=False)\n",
    "#_, data3 = _, np.array(loaded_arff['data'])\n",
    "\n",
    "print(\"Loaded dataset in %0.8fs\" % (time.time() - start))"
   ]
  },
  {
   "cell_type": "code",
   "execution_count": 28,
   "metadata": {
    "collapsed": false
   },
   "outputs": [],
   "source": [
    "# start = time.time()\n",
    "# from scipy import sparse\n",
    "# decoder = arff.ArffDecoder()\n",
    "# d = decoder.decode(open(dataset_file), encode_nominal=False, return_type=arff.COO)\n",
    "# data = d['data'][0]\n",
    "# row = d['data'][1]\n",
    "# col = d['data'][2]\n",
    "# matrix = sparse.coo_matrix((data, (row, col)), shape=(max(row)+1, max(col)+1))\n",
    "# print(\"Loaded dataset in %0.8fs\" % (time.time() - start))"
   ]
  },
  {
   "cell_type": "code",
   "execution_count": 33,
   "metadata": {
    "collapsed": false
   },
   "outputs": [
    {
     "name": "stdout",
     "output_type": "stream",
     "text": [
      "b'year' (b'nominal (integer encoded)') : 1.0 ( b'99' )  --  0\n",
      "b'gq' (b'nominal (integer encoded)') : 1.0 ( b'HH_in_1970_definition_but_sampled_as_larger_unit' )  --  0\n",
      "b'gqtypeg' (b'nominal (integer encoded)') : 2.0 ( b'NA_(household)' )  --  1\n",
      "b'farm' (b'nominal (integer encoded)') : 2.0 ( b'Non-Farm' )  --  1\n",
      "b'ownershg' (b'nominal (integer encoded)') : 2.0 ( b'Rented' )  --  1\n",
      "b'value' (b'nominal (integer encoded)') : 26.0 ( b'999999' )  --  25\n",
      "b'rent' (b'nominal (integer encoded)') : 17.0 ( b'412' )  --  16\n",
      "b'ftotinc' (b'nominal (integer encoded)') : 1098.0 ( b'23000' )  --  1097\n",
      "b'nfams' (b'nominal (integer encoded)') : 2.0 ( b'2' )  --  1\n",
      "b'ncouples' (b'nominal (integer encoded)') : 1.0 ( b'0' )  --  0\n",
      "b'nmothers' (b'nominal (integer encoded)') : 2.0 ( b'1' )  --  1\n",
      "b'nfathers' (b'nominal (integer encoded)') : 2.0 ( b'1' )  --  1\n",
      "b'momloc' (b'nominal (integer encoded)') : 1.0 ( b'0' )  --  0\n",
      "b'stepmom' (b'nominal (integer encoded)') : 1.0 ( b'0' )  --  0\n",
      "b'momrule' (b'nominal (integer encoded)') : 1.0 ( b'0' )  --  0\n",
      "b'poploc' (b'nominal (integer encoded)') : 2.0 ( b'1' )  --  1\n",
      "b'steppop' (b'nominal (integer encoded)') : 1.0 ( b'0' )  --  0\n",
      "b'poprule' (b'nominal (integer encoded)') : 2.0 ( b'1' )  --  1\n",
      "b'sploc' (b'nominal (integer encoded)') : 1.0 ( b'0' )  --  0\n",
      "b'sprule' (b'nominal (integer encoded)') : 1.0 ( b'0' )  --  0\n",
      "b'famsize' (b'nominal (integer encoded)') : 7.0 ( b'7' )  --  6\n",
      "b'nchild' (b'nominal (integer encoded)') : 1.0 ( b'0' )  --  0\n",
      "b'nchlt5' (b'nominal (integer encoded)') : 1.0 ( b'0' )  --  0\n",
      "b'famunit' (b'nominal (integer encoded)') : 1.0 ( b'1' )  --  0\n",
      "b'eldch' (b'nominal (integer encoded)') : 67.0 ( b'99' )  --  66\n",
      "b'yngch' (b'nominal (integer encoded)') : 67.0 ( b'99' )  --  66\n",
      "b'nsibs' (b'nominal (integer encoded)') : 2.0 ( b'1' )  --  1\n",
      "b'relateg' (b'nominal (integer encoded)') : 1.0 ( b'Child' )  --  0\n",
      "b'age' (b'nominal (integer encoded)') : 15.0 ( b'14' )  --  14\n",
      "b'sex' (b'nominal (integer encoded)') : 1.0 ( b'Female' )  --  0\n",
      "b'raceg' (b'nominal (integer encoded)') : 7.0 ( b'White' )  --  6\n",
      "b'marst' (b'nominal (integer encoded)') : 4.0 ( b'Never_married_single' )  --  3\n",
      "b'chborn' (b'nominal (integer encoded)') : nan ( b'?' )  --  None\n",
      "b'bplg' (b'nominal (integer encoded)') : 15.0 ( b'California' )  --  14\n",
      "b'school' (b'nominal (integer encoded)') : 2.0 ( b'Yes_in_school' )  --  1\n",
      "b'educrec' (b'nominal (integer encoded)') : 7.0 ( b'Grade_5-8' )  --  6\n",
      "b'schltype' (b'nominal (integer encoded)') : 3.0 ( b'Public_school' )  --  2\n",
      "b'empstatg' (b'nominal (integer encoded)') : nan ( b'?' )  --  None\n",
      "b'labforce' (b'nominal (integer encoded)') : nan ( b'?' )  --  None\n",
      "b'occ1950' (b'nominal (integer encoded)') : nan ( b'?' )  --  None\n",
      "b'occscore' (b'nominal (integer encoded)') : 1.0 ( b'0' )  --  0\n",
      "b'sei' (b'nominal (integer encoded)') : 1.0 ( b'0' )  --  0\n",
      "b'ind1950' (b'nominal (integer encoded)') : nan ( b'?' )  --  None\n",
      "b'classwkg' (b'nominal (integer encoded)') : nan ( b'?' )  --  None\n",
      "b'wkswork2' (b'nominal (integer encoded)') : nan ( b'?' )  --  None\n",
      "b'hrswork2' (b'nominal (integer encoded)') : nan ( b'?' )  --  None\n",
      "b'yrlastwk' (b'nominal (integer encoded)') : nan ( b'?' )  --  None\n",
      "b'workedyr' (b'nominal (integer encoded)') : nan ( b'?' )  --  None\n",
      "b'inctot' (b'nominal (integer encoded)') : 9.0 ( b'0' )  --  8\n",
      "b'incwage' (b'nominal (integer encoded)') : 1096.0 ( b'999999' )  --  1095\n",
      "b'incbus' (b'nominal (integer encoded)') : 192.0 ( b'999999' )  --  191\n",
      "b'incfarm' (b'nominal (integer encoded)') : 10.0 ( b'999999' )  --  9\n",
      "b'incss' (b'nominal (integer encoded)') : 545.0 ( b'99999' )  --  544\n",
      "b'incwelfr' (b'nominal (integer encoded)') : 217.0 ( b'99999' )  --  216\n",
      "b'incother' (b'nominal (integer encoded)') : 158.0 ( b'99999' )  --  157\n",
      "b'poverty' (b'nominal (integer encoded)') : 117.0 ( b'116' )  --  116\n",
      "b'migrat5g' (b'nominal (integer encoded)') : 2.0 ( b'Same_house' )  --  1\n",
      "b'migplac5' (b'nominal (integer encoded)') : nan ( b'?' )  --  None\n",
      "b'movedin' (b'nominal (integer encoded)') : 1.0 ( b'0' )  --  0\n",
      "b'vetstat' (b'nominal (integer encoded)') : nan ( b'?' )  --  None\n",
      "b'tranwork' (b'nominal (integer encoded)') : nan ( b'?' )  --  None\n"
     ]
    }
   ],
   "source": [
    "for attr, data1_i, data2_i, data3_i in zip(meta1['attribute_names_in_order'], data1[0], data2[0], data3[0]):\n",
    "    print(attr, \"(%s)\" % meta1['attributes'][attr]['type'],\n",
    "          \":\", data1_i, \"(\", data2_i, \")\", \" -- \", data3_i)"
   ]
  },
  {
   "cell_type": "code",
   "execution_count": 32,
   "metadata": {
    "collapsed": false
   },
   "outputs": [
    {
     "data": {
      "text/plain": [
       "{'category_index_map': {b'99': 1},\n",
       " 'is_categorical': True,\n",
       " 'n_categories': 1,\n",
       " 'numpy_type': numpy.int32,\n",
       " 'order': 0,\n",
       " 'type': b'nominal (integer encoded)'}"
      ]
     },
     "execution_count": 32,
     "metadata": {},
     "output_type": "execute_result"
    }
   ],
   "source": [
    "meta1['attributes'][attr]"
   ]
  },
  {
   "cell_type": "code",
   "execution_count": 10,
   "metadata": {
    "collapsed": false
   },
   "outputs": [
    {
     "ename": "NameError",
     "evalue": "name 'meta3' is not defined",
     "output_type": "error",
     "traceback": [
      "\u001b[0;31m---------------------------------------------------------------------------\u001b[0m",
      "\u001b[0;31mNameError\u001b[0m                                 Traceback (most recent call last)",
      "\u001b[0;32m<ipython-input-10-73da3711f09a>\u001b[0m in \u001b[0;36m<module>\u001b[0;34m()\u001b[0m\n\u001b[1;32m      1\u001b[0m \u001b[0;32mimport\u001b[0m \u001b[0mpprint\u001b[0m\u001b[0;34m\u001b[0m\u001b[0m\n\u001b[1;32m      2\u001b[0m \u001b[0;34m\u001b[0m\u001b[0m\n\u001b[0;32m----> 3\u001b[0;31m \u001b[0mpprint\u001b[0m\u001b[0;34m.\u001b[0m\u001b[0mpprint\u001b[0m\u001b[0;34m(\u001b[0m\u001b[0mmeta3\u001b[0m\u001b[0;34m)\u001b[0m\u001b[0;34m\u001b[0m\u001b[0m\n\u001b[0m",
      "\u001b[0;31mNameError\u001b[0m: name 'meta3' is not defined"
     ]
    }
   ],
   "source": [
    "import pprint\n",
    "\n",
    "pprint.pprint(meta3)"
   ]
  },
  {
   "cell_type": "code",
   "execution_count": null,
   "metadata": {
    "collapsed": false
   },
   "outputs": [],
   "source": [
    "import numpy as np\n",
    "\n",
    "np.dtype(float)"
   ]
  },
  {
   "cell_type": "code",
   "execution_count": null,
   "metadata": {
    "collapsed": false
   },
   "outputs": [],
   "source": [
    "meta2"
   ]
  },
  {
   "cell_type": "code",
   "execution_count": null,
   "metadata": {
    "collapsed": false
   },
   "outputs": [],
   "source": [
    "np.dtype('U')"
   ]
  },
  {
   "cell_type": "code",
   "execution_count": null,
   "metadata": {
    "collapsed": false
   },
   "outputs": [],
   "source": [
    "np.unicode_"
   ]
  },
  {
   "cell_type": "code",
   "execution_count": null,
   "metadata": {
    "collapsed": false
   },
   "outputs": [],
   "source": [
    "str.strip()"
   ]
  }
 ],
 "metadata": {
  "anaconda-cloud": {},
  "kernelspec": {
   "display_name": "Python [default]",
   "language": "python",
   "name": "python3"
  },
  "language_info": {
   "codemirror_mode": {
    "name": "ipython",
    "version": 3
   },
   "file_extension": ".py",
   "mimetype": "text/x-python",
   "name": "python",
   "nbconvert_exporter": "python",
   "pygments_lexer": "ipython3",
   "version": "3.5.2"
  }
 },
 "nbformat": 4,
 "nbformat_minor": 0
}
